{
  "nbformat": 4,
  "nbformat_minor": 0,
  "metadata": {
    "colab": {
      "name": "MLR.ipynb",
      "provenance": [],
      "authorship_tag": "ABX9TyNtWYO1Ymt0leImTZUe6c7H",
      "include_colab_link": true
    },
    "kernelspec": {
      "name": "python3",
      "display_name": "Python 3"
    }
  },
  "cells": [
    {
      "cell_type": "markdown",
      "metadata": {
        "id": "view-in-github",
        "colab_type": "text"
      },
      "source": [
        "<a href=\"https://colab.research.google.com/github/thesimaranjaira/AspectExtraction_SentimentAnalysis/blob/main/MLR.ipynb\" target=\"_parent\"><img src=\"https://colab.research.google.com/assets/colab-badge.svg\" alt=\"Open In Colab\"/></a>"
      ]
    },
    {
      "cell_type": "code",
      "metadata": {
        "id": "ckKO66e30hXG"
      },
      "source": [
        "import pandas as pd\r\n",
        "\r\n",
        "# import numpy as np\r\n",
        "# import seaborn as sns\r\n",
        "# import matplotlib\r\n",
        "\r\n"
      ],
      "execution_count": null,
      "outputs": []
    },
    {
      "cell_type": "code",
      "metadata": {
        "id": "3Er1X3es1Lxm"
      },
      "source": [
        "df = pd.read_csv('C:/Users/Simaran/PycharmProjects/pythonProject/data_no1.csv')\r\n",
        "df = df.drop(['time', 'tempk', 'forecasttime'], axis=1)\r\n",
        "print(df.head(10))\r\n",
        "print(df.describe(include='all'))\r\n",
        "\r\n",
        "timeSer= df['timestamp']"
      ],
      "execution_count": null,
      "outputs": []
    }
  ]
}