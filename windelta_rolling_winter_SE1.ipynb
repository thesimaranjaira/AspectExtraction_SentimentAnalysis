{
  "nbformat": 4,
  "nbformat_minor": 0,
  "metadata": {
    "colab": {
      "name": "windelta_rolling_winter_SE1.ipynb",
      "provenance": [],
      "include_colab_link": true
    },
    "kernelspec": {
      "name": "python3",
      "display_name": "Python 3"
    },
    "language_info": {
      "name": "python"
    }
  },
  "cells": [
    {
      "cell_type": "markdown",
      "metadata": {
        "id": "view-in-github",
        "colab_type": "text"
      },
      "source": [
        "<a href=\"https://colab.research.google.com/github/thesimaranjaira/AspectExtraction_SentimentAnalysis/blob/main/windelta_rolling_winter_SE1.ipynb\" target=\"_parent\"><img src=\"https://colab.research.google.com/assets/colab-badge.svg\" alt=\"Open In Colab\"/></a>"
      ]
    },
    {
      "cell_type": "code",
      "metadata": {
        "id": "Yi3DO2w1iLc5",
        "colab": {
          "base_uri": "https://localhost:8080/"
        },
        "outputId": "4896a5a8-fb13-43fc-fb81-e3bc1543fe2c"
      },
      "source": [
        "!pip install energyquantified"
      ],
      "execution_count": 1,
      "outputs": [
        {
          "output_type": "stream",
          "text": [
            "Collecting energyquantified\n",
            "\u001b[?25l  Downloading https://files.pythonhosted.org/packages/58/5b/824d6f7ae6a7176f3d1e16ee858aa7996e25137500d8f9566a5ba5643aa3/energyquantified-0.6-py3-none-any.whl (74kB)\n",
            "\u001b[K     |████████████████████████████████| 81kB 5.0MB/s \n",
            "\u001b[?25hRequirement already satisfied: tzlocal in /usr/local/lib/python3.7/dist-packages (from energyquantified) (1.5.1)\n",
            "Requirement already satisfied: pytz in /usr/local/lib/python3.7/dist-packages (from energyquantified) (2018.9)\n",
            "Collecting requests==2.25.1\n",
            "\u001b[?25l  Downloading https://files.pythonhosted.org/packages/29/c1/24814557f1d22c56d50280771a17307e6bf87b70727d975fd6b2ce6b014a/requests-2.25.1-py2.py3-none-any.whl (61kB)\n",
            "\u001b[K     |████████████████████████████████| 61kB 6.6MB/s \n",
            "\u001b[?25hRequirement already satisfied: python-dateutil==2.8.1 in /usr/local/lib/python3.7/dist-packages (from energyquantified) (2.8.1)\n",
            "Requirement already satisfied: urllib3<1.27,>=1.21.1 in /usr/local/lib/python3.7/dist-packages (from requests==2.25.1->energyquantified) (1.24.3)\n",
            "Requirement already satisfied: idna<3,>=2.5 in /usr/local/lib/python3.7/dist-packages (from requests==2.25.1->energyquantified) (2.10)\n",
            "Requirement already satisfied: chardet<5,>=3.0.2 in /usr/local/lib/python3.7/dist-packages (from requests==2.25.1->energyquantified) (3.0.4)\n",
            "Requirement already satisfied: certifi>=2017.4.17 in /usr/local/lib/python3.7/dist-packages (from requests==2.25.1->energyquantified) (2021.5.30)\n",
            "Requirement already satisfied: six>=1.5 in /usr/local/lib/python3.7/dist-packages (from python-dateutil==2.8.1->energyquantified) (1.15.0)\n",
            "\u001b[31mERROR: google-colab 1.0.0 has requirement requests~=2.23.0, but you'll have requests 2.25.1 which is incompatible.\u001b[0m\n",
            "\u001b[31mERROR: datascience 0.10.6 has requirement folium==0.2.1, but you'll have folium 0.8.3 which is incompatible.\u001b[0m\n",
            "Installing collected packages: requests, energyquantified\n",
            "  Found existing installation: requests 2.23.0\n",
            "    Uninstalling requests-2.23.0:\n",
            "      Successfully uninstalled requests-2.23.0\n",
            "Successfully installed energyquantified-0.6 requests-2.25.1\n"
          ],
          "name": "stdout"
        }
      ]
    },
    {
      "cell_type": "code",
      "metadata": {
        "id": "GDePWsJgcpUf"
      },
      "source": [
        "import pandas as pd\n",
        "from datetime import timedelta, date\n",
        "from energyquantified import EnergyQuantified\n",
        "from energyquantified.time import Frequency\n",
        "from energyquantified.metadata import Aggregation\n",
        "from datetime import datetime as dtdatetime\n",
        "from energyquantified.time import (\n",
        "   Resolution, Frequency, UTC, get_datetime\n",
        ")\n",
        "import matplotlib as mplt\n",
        "import matplotlib.pyplot as plt\n",
        "import matplotlib.gridspec as gridspec\n",
        "%matplotlib inline\n",
        "import seaborn as sns"
      ],
      "execution_count": 2,
      "outputs": []
    },
    {
      "cell_type": "code",
      "metadata": {
        "colab": {
          "base_uri": "https://localhost:8080/"
        },
        "id": "4H8qQlSWcrUu",
        "outputId": "e20ef06c-2132-43cc-e301-a3ea5679eb18"
      },
      "source": [
        "from google.colab import drive\n",
        "drive.mount('/content/drive')"
      ],
      "execution_count": 3,
      "outputs": [
        {
          "output_type": "stream",
          "text": [
            "Mounted at /content/drive\n"
          ],
          "name": "stdout"
        }
      ]
    },
    {
      "cell_type": "code",
      "metadata": {
        "id": "qYKaQh95c1_N"
      },
      "source": [
        "pd.set_option('display.max_rows', 500)\n",
        "pd.set_option('display.max_columns', 500)\n",
        "pd.set_option('display.width', 1000)"
      ],
      "execution_count": 4,
      "outputs": []
    },
    {
      "cell_type": "code",
      "metadata": {
        "id": "EuUbBhQmc4x0"
      },
      "source": [
        "api_key = 'ea1244-4926fe-571bed-d0f4b5'\n",
        "EQ = EnergyQuantified(api_key=api_key)"
      ],
      "execution_count": 5,
      "outputs": []
    },
    {
      "cell_type": "code",
      "metadata": {
        "id": "5GKWrt5gdArR"
      },
      "source": [
        "def get_data_from_instance(identifier, issued, frequency):\n",
        "    forecast = EQ.instances.get(\n",
        "        identifier,\n",
        "        issued=issued,\n",
        "        tag='arome',                        # select forecast\n",
        "        frequency=frequency,\n",
        "        aggregation=Aggregation.AVERAGE,\n",
        "        # ensembles=True                    # Include ensembles\n",
        "    )\n",
        "    df = forecast.to_dataframe()\n",
        "   \n",
        "    return df"
      ],
      "execution_count": 6,
      "outputs": []
    },
    {
      "cell_type": "code",
      "metadata": {
        "id": "8v89l_iuo81M"
      },
      "source": [
        "from datetime import datetime, time"
      ],
      "execution_count": 7,
      "outputs": []
    },
    {
      "cell_type": "code",
      "metadata": {
        "id": "xquOJliboWsz"
      },
      "source": [
        "day_ahead_forecast_zero = EQ.instances.relative(\n",
        "   'SE1 Wind Power Production MWh/h 15min Forecast',\n",
        "   begin=dtdatetime(2020, 12, 1, 0, 0, 0),\n",
        "   end=dtdatetime(2020, 12, 31, 0, 0, 0),\n",
        "   tag='arome',\n",
        "   days_ahead=0,  # The day-ahead forecast (0 or higher allowed)\n",
        "   time_of_day=time(0, 0),  # Issued at exactly 00:00\n",
        "   frequency=Frequency.PT1H\n",
        ")\n",
        "day_ahead_zero=day_ahead_forecast_zero.to_dataframe()\n"
      ],
      "execution_count": 8,
      "outputs": []
    },
    {
      "cell_type": "code",
      "metadata": {
        "colab": {
          "base_uri": "https://localhost:8080/",
          "height": 475
        },
        "id": "CSKTPQggoWrI",
        "outputId": "7cb37e25-29bc-4abd-a77a-a6ba7ccd4eed"
      },
      "source": [
        "day_ahead_zero"
      ],
      "execution_count": 9,
      "outputs": [
        {
          "output_type": "execute_result",
          "data": {
            "text/html": [
              "<div>\n",
              "<style scoped>\n",
              "    .dataframe tbody tr th:only-of-type {\n",
              "        vertical-align: middle;\n",
              "    }\n",
              "\n",
              "    .dataframe tbody tr th {\n",
              "        vertical-align: top;\n",
              "    }\n",
              "\n",
              "    .dataframe thead tr th {\n",
              "        text-align: left;\n",
              "    }\n",
              "\n",
              "    .dataframe thead tr:last-of-type th {\n",
              "        text-align: right;\n",
              "    }\n",
              "</style>\n",
              "<table border=\"1\" class=\"dataframe\">\n",
              "  <thead>\n",
              "    <tr>\n",
              "      <th></th>\n",
              "      <th>SE1 Wind Power Production MWh/h 15min Forecast</th>\n",
              "    </tr>\n",
              "    <tr>\n",
              "      <th></th>\n",
              "      <th></th>\n",
              "    </tr>\n",
              "    <tr>\n",
              "      <th></th>\n",
              "      <th></th>\n",
              "    </tr>\n",
              "    <tr>\n",
              "      <th>date</th>\n",
              "      <th></th>\n",
              "    </tr>\n",
              "  </thead>\n",
              "  <tbody>\n",
              "    <tr>\n",
              "      <th>2020-12-01 01:00:00+01:00</th>\n",
              "      <td>616.62</td>\n",
              "    </tr>\n",
              "    <tr>\n",
              "      <th>2020-12-01 02:00:00+01:00</th>\n",
              "      <td>569.55</td>\n",
              "    </tr>\n",
              "    <tr>\n",
              "      <th>2020-12-01 03:00:00+01:00</th>\n",
              "      <td>509.33</td>\n",
              "    </tr>\n",
              "    <tr>\n",
              "      <th>2020-12-01 04:00:00+01:00</th>\n",
              "      <td>478.55</td>\n",
              "    </tr>\n",
              "    <tr>\n",
              "      <th>2020-12-01 05:00:00+01:00</th>\n",
              "      <td>520.88</td>\n",
              "    </tr>\n",
              "    <tr>\n",
              "      <th>...</th>\n",
              "      <td>...</td>\n",
              "    </tr>\n",
              "    <tr>\n",
              "      <th>2020-12-30 19:00:00+01:00</th>\n",
              "      <td>545.93</td>\n",
              "    </tr>\n",
              "    <tr>\n",
              "      <th>2020-12-30 20:00:00+01:00</th>\n",
              "      <td>601.93</td>\n",
              "    </tr>\n",
              "    <tr>\n",
              "      <th>2020-12-30 21:00:00+01:00</th>\n",
              "      <td>608.40</td>\n",
              "    </tr>\n",
              "    <tr>\n",
              "      <th>2020-12-30 22:00:00+01:00</th>\n",
              "      <td>596.65</td>\n",
              "    </tr>\n",
              "    <tr>\n",
              "      <th>2020-12-30 23:00:00+01:00</th>\n",
              "      <td>584.75</td>\n",
              "    </tr>\n",
              "  </tbody>\n",
              "</table>\n",
              "<p>719 rows × 1 columns</p>\n",
              "</div>"
            ],
            "text/plain": [
              "                          SE1 Wind Power Production MWh/h 15min Forecast\n",
              "                                                                        \n",
              "                                                                        \n",
              "date                                                                    \n",
              "2020-12-01 01:00:00+01:00                                         616.62\n",
              "2020-12-01 02:00:00+01:00                                         569.55\n",
              "2020-12-01 03:00:00+01:00                                         509.33\n",
              "2020-12-01 04:00:00+01:00                                         478.55\n",
              "2020-12-01 05:00:00+01:00                                         520.88\n",
              "...                                                                  ...\n",
              "2020-12-30 19:00:00+01:00                                         545.93\n",
              "2020-12-30 20:00:00+01:00                                         601.93\n",
              "2020-12-30 21:00:00+01:00                                         608.40\n",
              "2020-12-30 22:00:00+01:00                                         596.65\n",
              "2020-12-30 23:00:00+01:00                                         584.75\n",
              "\n",
              "[719 rows x 1 columns]"
            ]
          },
          "metadata": {
            "tags": []
          },
          "execution_count": 9
        }
      ]
    },
    {
      "cell_type": "code",
      "metadata": {
        "id": "pe89qpfkr4c5"
      },
      "source": [
        "day_ahead_forecast_twelve = EQ.instances.relative(\n",
        "   'sE1 Wind Power Production MWh/h 15min Forecast',\n",
        "   begin=dtdatetime(2020, 12, 1, 0, 0, 0),\n",
        "   end=dtdatetime(2020, 12, 31, 0, 0, 0),\n",
        "   tag='arome',\n",
        "   days_ahead = 1,  # The day-ahead forecast (0 or higher allowed)\n",
        "   time_of_day = time(12, 0),  # Issued at exactly 12:00\n",
        "  #  issued ='earliest',\n",
        "   frequency = Frequency.PT1H\n",
        ")\n",
        "day_ahead_twelve=day_ahead_forecast_twelve.to_dataframe()"
      ],
      "execution_count": 10,
      "outputs": []
    },
    {
      "cell_type": "code",
      "metadata": {
        "colab": {
          "base_uri": "https://localhost:8080/",
          "height": 475
        },
        "id": "nPygheVds61x",
        "outputId": "6dcad6dd-1a32-4d64-d263-f0dab902074b"
      },
      "source": [
        "day_ahead_twelve"
      ],
      "execution_count": 11,
      "outputs": [
        {
          "output_type": "execute_result",
          "data": {
            "text/html": [
              "<div>\n",
              "<style scoped>\n",
              "    .dataframe tbody tr th:only-of-type {\n",
              "        vertical-align: middle;\n",
              "    }\n",
              "\n",
              "    .dataframe tbody tr th {\n",
              "        vertical-align: top;\n",
              "    }\n",
              "\n",
              "    .dataframe thead tr th {\n",
              "        text-align: left;\n",
              "    }\n",
              "\n",
              "    .dataframe thead tr:last-of-type th {\n",
              "        text-align: right;\n",
              "    }\n",
              "</style>\n",
              "<table border=\"1\" class=\"dataframe\">\n",
              "  <thead>\n",
              "    <tr>\n",
              "      <th></th>\n",
              "      <th>SE1 Wind Power Production MWh/h 15min Forecast</th>\n",
              "    </tr>\n",
              "    <tr>\n",
              "      <th></th>\n",
              "      <th></th>\n",
              "    </tr>\n",
              "    <tr>\n",
              "      <th></th>\n",
              "      <th></th>\n",
              "    </tr>\n",
              "    <tr>\n",
              "      <th>date</th>\n",
              "      <th></th>\n",
              "    </tr>\n",
              "  </thead>\n",
              "  <tbody>\n",
              "    <tr>\n",
              "      <th>2020-12-01 00:00:00+01:00</th>\n",
              "      <td>597.03</td>\n",
              "    </tr>\n",
              "    <tr>\n",
              "      <th>2020-12-01 01:00:00+01:00</th>\n",
              "      <td>559.17</td>\n",
              "    </tr>\n",
              "    <tr>\n",
              "      <th>2020-12-01 02:00:00+01:00</th>\n",
              "      <td>559.38</td>\n",
              "    </tr>\n",
              "    <tr>\n",
              "      <th>2020-12-01 03:00:00+01:00</th>\n",
              "      <td>523.70</td>\n",
              "    </tr>\n",
              "    <tr>\n",
              "      <th>2020-12-01 04:00:00+01:00</th>\n",
              "      <td>459.03</td>\n",
              "    </tr>\n",
              "    <tr>\n",
              "      <th>...</th>\n",
              "      <td>...</td>\n",
              "    </tr>\n",
              "    <tr>\n",
              "      <th>2020-12-30 19:00:00+01:00</th>\n",
              "      <td>572.33</td>\n",
              "    </tr>\n",
              "    <tr>\n",
              "      <th>2020-12-30 20:00:00+01:00</th>\n",
              "      <td>642.25</td>\n",
              "    </tr>\n",
              "    <tr>\n",
              "      <th>2020-12-30 21:00:00+01:00</th>\n",
              "      <td>698.28</td>\n",
              "    </tr>\n",
              "    <tr>\n",
              "      <th>2020-12-30 22:00:00+01:00</th>\n",
              "      <td>705.42</td>\n",
              "    </tr>\n",
              "    <tr>\n",
              "      <th>2020-12-30 23:00:00+01:00</th>\n",
              "      <td>655.35</td>\n",
              "    </tr>\n",
              "  </tbody>\n",
              "</table>\n",
              "<p>720 rows × 1 columns</p>\n",
              "</div>"
            ],
            "text/plain": [
              "                          SE1 Wind Power Production MWh/h 15min Forecast\n",
              "                                                                        \n",
              "                                                                        \n",
              "date                                                                    \n",
              "2020-12-01 00:00:00+01:00                                         597.03\n",
              "2020-12-01 01:00:00+01:00                                         559.17\n",
              "2020-12-01 02:00:00+01:00                                         559.38\n",
              "2020-12-01 03:00:00+01:00                                         523.70\n",
              "2020-12-01 04:00:00+01:00                                         459.03\n",
              "...                                                                  ...\n",
              "2020-12-30 19:00:00+01:00                                         572.33\n",
              "2020-12-30 20:00:00+01:00                                         642.25\n",
              "2020-12-30 21:00:00+01:00                                         698.28\n",
              "2020-12-30 22:00:00+01:00                                         705.42\n",
              "2020-12-30 23:00:00+01:00                                         655.35\n",
              "\n",
              "[720 rows x 1 columns]"
            ]
          },
          "metadata": {
            "tags": []
          },
          "execution_count": 11
        }
      ]
    },
    {
      "cell_type": "code",
      "metadata": {
        "colab": {
          "base_uri": "https://localhost:8080/",
          "height": 475
        },
        "id": "TW5soIOFAmiJ",
        "outputId": "8d233d06-7f8f-4b69-a150-1fe654f79665"
      },
      "source": [
        "df_comb = pd.merge(day_ahead_zero, day_ahead_twelve, left_index=True, right_index=True, how='inner')\n",
        "df_comb"
      ],
      "execution_count": 12,
      "outputs": [
        {
          "output_type": "execute_result",
          "data": {
            "text/html": [
              "<div>\n",
              "<style scoped>\n",
              "    .dataframe tbody tr th:only-of-type {\n",
              "        vertical-align: middle;\n",
              "    }\n",
              "\n",
              "    .dataframe tbody tr th {\n",
              "        vertical-align: top;\n",
              "    }\n",
              "\n",
              "    .dataframe thead tr th {\n",
              "        text-align: left;\n",
              "    }\n",
              "\n",
              "    .dataframe thead tr:last-of-type th {\n",
              "        text-align: right;\n",
              "    }\n",
              "</style>\n",
              "<table border=\"1\" class=\"dataframe\">\n",
              "  <thead>\n",
              "    <tr>\n",
              "      <th></th>\n",
              "      <th>SE1 Wind Power Production MWh/h 15min Forecast_x</th>\n",
              "      <th>SE1 Wind Power Production MWh/h 15min Forecast_y</th>\n",
              "    </tr>\n",
              "    <tr>\n",
              "      <th></th>\n",
              "      <th></th>\n",
              "      <th></th>\n",
              "    </tr>\n",
              "    <tr>\n",
              "      <th></th>\n",
              "      <th></th>\n",
              "      <th></th>\n",
              "    </tr>\n",
              "    <tr>\n",
              "      <th>date</th>\n",
              "      <th></th>\n",
              "      <th></th>\n",
              "    </tr>\n",
              "  </thead>\n",
              "  <tbody>\n",
              "    <tr>\n",
              "      <th>2020-12-01 01:00:00+01:00</th>\n",
              "      <td>616.62</td>\n",
              "      <td>559.17</td>\n",
              "    </tr>\n",
              "    <tr>\n",
              "      <th>2020-12-01 02:00:00+01:00</th>\n",
              "      <td>569.55</td>\n",
              "      <td>559.38</td>\n",
              "    </tr>\n",
              "    <tr>\n",
              "      <th>2020-12-01 03:00:00+01:00</th>\n",
              "      <td>509.33</td>\n",
              "      <td>523.70</td>\n",
              "    </tr>\n",
              "    <tr>\n",
              "      <th>2020-12-01 04:00:00+01:00</th>\n",
              "      <td>478.55</td>\n",
              "      <td>459.03</td>\n",
              "    </tr>\n",
              "    <tr>\n",
              "      <th>2020-12-01 05:00:00+01:00</th>\n",
              "      <td>520.88</td>\n",
              "      <td>471.40</td>\n",
              "    </tr>\n",
              "    <tr>\n",
              "      <th>...</th>\n",
              "      <td>...</td>\n",
              "      <td>...</td>\n",
              "    </tr>\n",
              "    <tr>\n",
              "      <th>2020-12-30 19:00:00+01:00</th>\n",
              "      <td>545.93</td>\n",
              "      <td>572.33</td>\n",
              "    </tr>\n",
              "    <tr>\n",
              "      <th>2020-12-30 20:00:00+01:00</th>\n",
              "      <td>601.93</td>\n",
              "      <td>642.25</td>\n",
              "    </tr>\n",
              "    <tr>\n",
              "      <th>2020-12-30 21:00:00+01:00</th>\n",
              "      <td>608.40</td>\n",
              "      <td>698.28</td>\n",
              "    </tr>\n",
              "    <tr>\n",
              "      <th>2020-12-30 22:00:00+01:00</th>\n",
              "      <td>596.65</td>\n",
              "      <td>705.42</td>\n",
              "    </tr>\n",
              "    <tr>\n",
              "      <th>2020-12-30 23:00:00+01:00</th>\n",
              "      <td>584.75</td>\n",
              "      <td>655.35</td>\n",
              "    </tr>\n",
              "  </tbody>\n",
              "</table>\n",
              "<p>719 rows × 2 columns</p>\n",
              "</div>"
            ],
            "text/plain": [
              "                          SE1 Wind Power Production MWh/h 15min Forecast_x SE1 Wind Power Production MWh/h 15min Forecast_y\n",
              "                                                                                                                           \n",
              "                                                                                                                           \n",
              "date                                                                                                                       \n",
              "2020-12-01 01:00:00+01:00                                           616.62                                           559.17\n",
              "2020-12-01 02:00:00+01:00                                           569.55                                           559.38\n",
              "2020-12-01 03:00:00+01:00                                           509.33                                           523.70\n",
              "2020-12-01 04:00:00+01:00                                           478.55                                           459.03\n",
              "2020-12-01 05:00:00+01:00                                           520.88                                           471.40\n",
              "...                                                                    ...                                              ...\n",
              "2020-12-30 19:00:00+01:00                                           545.93                                           572.33\n",
              "2020-12-30 20:00:00+01:00                                           601.93                                           642.25\n",
              "2020-12-30 21:00:00+01:00                                           608.40                                           698.28\n",
              "2020-12-30 22:00:00+01:00                                           596.65                                           705.42\n",
              "2020-12-30 23:00:00+01:00                                           584.75                                           655.35\n",
              "\n",
              "[719 rows x 2 columns]"
            ]
          },
          "metadata": {
            "tags": []
          },
          "execution_count": 12
        }
      ]
    },
    {
      "cell_type": "code",
      "metadata": {
        "colab": {
          "base_uri": "https://localhost:8080/"
        },
        "id": "NFVAUcr1A0Sz",
        "outputId": "7c314e5c-587c-4617-de15-aca69f7b69cd"
      },
      "source": [
        "df_comb.columns"
      ],
      "execution_count": 13,
      "outputs": [
        {
          "output_type": "execute_result",
          "data": {
            "text/plain": [
              "MultiIndex([('SE1 Wind Power Production MWh/h 15min Forecast_x', '', ''),\n",
              "            ('SE1 Wind Power Production MWh/h 15min Forecast_y', '', '')],\n",
              "           )"
            ]
          },
          "metadata": {
            "tags": []
          },
          "execution_count": 13
        }
      ]
    },
    {
      "cell_type": "code",
      "metadata": {
        "id": "E4lki5fKA7kj"
      },
      "source": [
        "df_comb['Wind Delta', '', '']= df_comb['SE1 Wind Power Production MWh/h 15min Forecast_x',''] - df_comb['SE1 Wind Power Production MWh/h 15min Forecast_y','']"
      ],
      "execution_count": 15,
      "outputs": []
    },
    {
      "cell_type": "code",
      "metadata": {
        "colab": {
          "base_uri": "https://localhost:8080/",
          "height": 475
        },
        "id": "vm2VHhRTBJfS",
        "outputId": "4a10f702-f4da-4502-dcf2-61f90cf62e96"
      },
      "source": [
        "df_comb"
      ],
      "execution_count": 16,
      "outputs": [
        {
          "output_type": "execute_result",
          "data": {
            "text/html": [
              "<div>\n",
              "<style scoped>\n",
              "    .dataframe tbody tr th:only-of-type {\n",
              "        vertical-align: middle;\n",
              "    }\n",
              "\n",
              "    .dataframe tbody tr th {\n",
              "        vertical-align: top;\n",
              "    }\n",
              "\n",
              "    .dataframe thead tr th {\n",
              "        text-align: left;\n",
              "    }\n",
              "\n",
              "    .dataframe thead tr:last-of-type th {\n",
              "        text-align: right;\n",
              "    }\n",
              "</style>\n",
              "<table border=\"1\" class=\"dataframe\">\n",
              "  <thead>\n",
              "    <tr>\n",
              "      <th></th>\n",
              "      <th>SE1 Wind Power Production MWh/h 15min Forecast_x</th>\n",
              "      <th>SE1 Wind Power Production MWh/h 15min Forecast_y</th>\n",
              "      <th>Wind Delta</th>\n",
              "    </tr>\n",
              "    <tr>\n",
              "      <th></th>\n",
              "      <th></th>\n",
              "      <th></th>\n",
              "      <th></th>\n",
              "    </tr>\n",
              "    <tr>\n",
              "      <th></th>\n",
              "      <th></th>\n",
              "      <th></th>\n",
              "      <th></th>\n",
              "    </tr>\n",
              "    <tr>\n",
              "      <th>date</th>\n",
              "      <th></th>\n",
              "      <th></th>\n",
              "      <th></th>\n",
              "    </tr>\n",
              "  </thead>\n",
              "  <tbody>\n",
              "    <tr>\n",
              "      <th>2020-12-01 01:00:00+01:00</th>\n",
              "      <td>616.62</td>\n",
              "      <td>559.17</td>\n",
              "      <td>57.45</td>\n",
              "    </tr>\n",
              "    <tr>\n",
              "      <th>2020-12-01 02:00:00+01:00</th>\n",
              "      <td>569.55</td>\n",
              "      <td>559.38</td>\n",
              "      <td>10.17</td>\n",
              "    </tr>\n",
              "    <tr>\n",
              "      <th>2020-12-01 03:00:00+01:00</th>\n",
              "      <td>509.33</td>\n",
              "      <td>523.70</td>\n",
              "      <td>-14.37</td>\n",
              "    </tr>\n",
              "    <tr>\n",
              "      <th>2020-12-01 04:00:00+01:00</th>\n",
              "      <td>478.55</td>\n",
              "      <td>459.03</td>\n",
              "      <td>19.52</td>\n",
              "    </tr>\n",
              "    <tr>\n",
              "      <th>2020-12-01 05:00:00+01:00</th>\n",
              "      <td>520.88</td>\n",
              "      <td>471.40</td>\n",
              "      <td>49.48</td>\n",
              "    </tr>\n",
              "    <tr>\n",
              "      <th>...</th>\n",
              "      <td>...</td>\n",
              "      <td>...</td>\n",
              "      <td>...</td>\n",
              "    </tr>\n",
              "    <tr>\n",
              "      <th>2020-12-30 19:00:00+01:00</th>\n",
              "      <td>545.93</td>\n",
              "      <td>572.33</td>\n",
              "      <td>-26.40</td>\n",
              "    </tr>\n",
              "    <tr>\n",
              "      <th>2020-12-30 20:00:00+01:00</th>\n",
              "      <td>601.93</td>\n",
              "      <td>642.25</td>\n",
              "      <td>-40.32</td>\n",
              "    </tr>\n",
              "    <tr>\n",
              "      <th>2020-12-30 21:00:00+01:00</th>\n",
              "      <td>608.40</td>\n",
              "      <td>698.28</td>\n",
              "      <td>-89.88</td>\n",
              "    </tr>\n",
              "    <tr>\n",
              "      <th>2020-12-30 22:00:00+01:00</th>\n",
              "      <td>596.65</td>\n",
              "      <td>705.42</td>\n",
              "      <td>-108.77</td>\n",
              "    </tr>\n",
              "    <tr>\n",
              "      <th>2020-12-30 23:00:00+01:00</th>\n",
              "      <td>584.75</td>\n",
              "      <td>655.35</td>\n",
              "      <td>-70.60</td>\n",
              "    </tr>\n",
              "  </tbody>\n",
              "</table>\n",
              "<p>719 rows × 3 columns</p>\n",
              "</div>"
            ],
            "text/plain": [
              "                          SE1 Wind Power Production MWh/h 15min Forecast_x SE1 Wind Power Production MWh/h 15min Forecast_y Wind Delta\n",
              "                                                                                                                                      \n",
              "                                                                                                                                      \n",
              "date                                                                                                                                  \n",
              "2020-12-01 01:00:00+01:00                                           616.62                                           559.17      57.45\n",
              "2020-12-01 02:00:00+01:00                                           569.55                                           559.38      10.17\n",
              "2020-12-01 03:00:00+01:00                                           509.33                                           523.70     -14.37\n",
              "2020-12-01 04:00:00+01:00                                           478.55                                           459.03      19.52\n",
              "2020-12-01 05:00:00+01:00                                           520.88                                           471.40      49.48\n",
              "...                                                                    ...                                              ...        ...\n",
              "2020-12-30 19:00:00+01:00                                           545.93                                           572.33     -26.40\n",
              "2020-12-30 20:00:00+01:00                                           601.93                                           642.25     -40.32\n",
              "2020-12-30 21:00:00+01:00                                           608.40                                           698.28     -89.88\n",
              "2020-12-30 22:00:00+01:00                                           596.65                                           705.42    -108.77\n",
              "2020-12-30 23:00:00+01:00                                           584.75                                           655.35     -70.60\n",
              "\n",
              "[719 rows x 3 columns]"
            ]
          },
          "metadata": {
            "tags": []
          },
          "execution_count": 16
        }
      ]
    },
    {
      "cell_type": "code",
      "metadata": {
        "colab": {
          "base_uri": "https://localhost:8080/"
        },
        "id": "XosrfvkPBgiM",
        "outputId": "2f5083f9-70e9-48e3-b2ea-174c3d225b47"
      },
      "source": [
        "df_comb.columns"
      ],
      "execution_count": 17,
      "outputs": [
        {
          "output_type": "execute_result",
          "data": {
            "text/plain": [
              "MultiIndex([('SE1 Wind Power Production MWh/h 15min Forecast_x', '', ''),\n",
              "            ('SE1 Wind Power Production MWh/h 15min Forecast_y', '', ''),\n",
              "            (                                      'Wind Delta', '', '')],\n",
              "           )"
            ]
          },
          "metadata": {
            "tags": []
          },
          "execution_count": 17
        }
      ]
    },
    {
      "cell_type": "code",
      "metadata": {
        "colab": {
          "base_uri": "https://localhost:8080/",
          "height": 475
        },
        "id": "EqFodMONCIMn",
        "outputId": "e20560a6-c2ac-4674-fd63-55853f3a63c4"
      },
      "source": [
        "df_comb.drop(['SE1 Wind Power Production MWh/h 15min Forecast_x', 'SE1 Wind Power Production MWh/h 15min Forecast_y'], axis=1, level=0 ,inplace=True)\n",
        "df_comb"
      ],
      "execution_count": 18,
      "outputs": [
        {
          "output_type": "execute_result",
          "data": {
            "text/html": [
              "<div>\n",
              "<style scoped>\n",
              "    .dataframe tbody tr th:only-of-type {\n",
              "        vertical-align: middle;\n",
              "    }\n",
              "\n",
              "    .dataframe tbody tr th {\n",
              "        vertical-align: top;\n",
              "    }\n",
              "\n",
              "    .dataframe thead tr th {\n",
              "        text-align: left;\n",
              "    }\n",
              "\n",
              "    .dataframe thead tr:last-of-type th {\n",
              "        text-align: right;\n",
              "    }\n",
              "</style>\n",
              "<table border=\"1\" class=\"dataframe\">\n",
              "  <thead>\n",
              "    <tr>\n",
              "      <th></th>\n",
              "      <th>Wind Delta</th>\n",
              "    </tr>\n",
              "    <tr>\n",
              "      <th></th>\n",
              "      <th></th>\n",
              "    </tr>\n",
              "    <tr>\n",
              "      <th></th>\n",
              "      <th></th>\n",
              "    </tr>\n",
              "    <tr>\n",
              "      <th>date</th>\n",
              "      <th></th>\n",
              "    </tr>\n",
              "  </thead>\n",
              "  <tbody>\n",
              "    <tr>\n",
              "      <th>2020-12-01 01:00:00+01:00</th>\n",
              "      <td>57.45</td>\n",
              "    </tr>\n",
              "    <tr>\n",
              "      <th>2020-12-01 02:00:00+01:00</th>\n",
              "      <td>10.17</td>\n",
              "    </tr>\n",
              "    <tr>\n",
              "      <th>2020-12-01 03:00:00+01:00</th>\n",
              "      <td>-14.37</td>\n",
              "    </tr>\n",
              "    <tr>\n",
              "      <th>2020-12-01 04:00:00+01:00</th>\n",
              "      <td>19.52</td>\n",
              "    </tr>\n",
              "    <tr>\n",
              "      <th>2020-12-01 05:00:00+01:00</th>\n",
              "      <td>49.48</td>\n",
              "    </tr>\n",
              "    <tr>\n",
              "      <th>...</th>\n",
              "      <td>...</td>\n",
              "    </tr>\n",
              "    <tr>\n",
              "      <th>2020-12-30 19:00:00+01:00</th>\n",
              "      <td>-26.40</td>\n",
              "    </tr>\n",
              "    <tr>\n",
              "      <th>2020-12-30 20:00:00+01:00</th>\n",
              "      <td>-40.32</td>\n",
              "    </tr>\n",
              "    <tr>\n",
              "      <th>2020-12-30 21:00:00+01:00</th>\n",
              "      <td>-89.88</td>\n",
              "    </tr>\n",
              "    <tr>\n",
              "      <th>2020-12-30 22:00:00+01:00</th>\n",
              "      <td>-108.77</td>\n",
              "    </tr>\n",
              "    <tr>\n",
              "      <th>2020-12-30 23:00:00+01:00</th>\n",
              "      <td>-70.60</td>\n",
              "    </tr>\n",
              "  </tbody>\n",
              "</table>\n",
              "<p>719 rows × 1 columns</p>\n",
              "</div>"
            ],
            "text/plain": [
              "                          Wind Delta\n",
              "                                    \n",
              "                                    \n",
              "date                                \n",
              "2020-12-01 01:00:00+01:00      57.45\n",
              "2020-12-01 02:00:00+01:00      10.17\n",
              "2020-12-01 03:00:00+01:00     -14.37\n",
              "2020-12-01 04:00:00+01:00      19.52\n",
              "2020-12-01 05:00:00+01:00      49.48\n",
              "...                              ...\n",
              "2020-12-30 19:00:00+01:00     -26.40\n",
              "2020-12-30 20:00:00+01:00     -40.32\n",
              "2020-12-30 21:00:00+01:00     -89.88\n",
              "2020-12-30 22:00:00+01:00    -108.77\n",
              "2020-12-30 23:00:00+01:00     -70.60\n",
              "\n",
              "[719 rows x 1 columns]"
            ]
          },
          "metadata": {
            "tags": []
          },
          "execution_count": 18
        }
      ]
    },
    {
      "cell_type": "code",
      "metadata": {
        "id": "zFOISyRNCv8G"
      },
      "source": [
        "df_comb.columns = ['_'.join(col) for col in df_comb.columns.values]"
      ],
      "execution_count": 19,
      "outputs": []
    },
    {
      "cell_type": "code",
      "metadata": {
        "colab": {
          "base_uri": "https://localhost:8080/",
          "height": 447
        },
        "id": "gpOqIQxnCxkM",
        "outputId": "187e65ab-7442-4185-e6db-49b05607b751"
      },
      "source": [
        "df_comb"
      ],
      "execution_count": 20,
      "outputs": [
        {
          "output_type": "execute_result",
          "data": {
            "text/html": [
              "<div>\n",
              "<style scoped>\n",
              "    .dataframe tbody tr th:only-of-type {\n",
              "        vertical-align: middle;\n",
              "    }\n",
              "\n",
              "    .dataframe tbody tr th {\n",
              "        vertical-align: top;\n",
              "    }\n",
              "\n",
              "    .dataframe thead th {\n",
              "        text-align: right;\n",
              "    }\n",
              "</style>\n",
              "<table border=\"1\" class=\"dataframe\">\n",
              "  <thead>\n",
              "    <tr style=\"text-align: right;\">\n",
              "      <th></th>\n",
              "      <th>Wind Delta__</th>\n",
              "    </tr>\n",
              "    <tr>\n",
              "      <th>date</th>\n",
              "      <th></th>\n",
              "    </tr>\n",
              "  </thead>\n",
              "  <tbody>\n",
              "    <tr>\n",
              "      <th>2020-12-01 01:00:00+01:00</th>\n",
              "      <td>57.45</td>\n",
              "    </tr>\n",
              "    <tr>\n",
              "      <th>2020-12-01 02:00:00+01:00</th>\n",
              "      <td>10.17</td>\n",
              "    </tr>\n",
              "    <tr>\n",
              "      <th>2020-12-01 03:00:00+01:00</th>\n",
              "      <td>-14.37</td>\n",
              "    </tr>\n",
              "    <tr>\n",
              "      <th>2020-12-01 04:00:00+01:00</th>\n",
              "      <td>19.52</td>\n",
              "    </tr>\n",
              "    <tr>\n",
              "      <th>2020-12-01 05:00:00+01:00</th>\n",
              "      <td>49.48</td>\n",
              "    </tr>\n",
              "    <tr>\n",
              "      <th>...</th>\n",
              "      <td>...</td>\n",
              "    </tr>\n",
              "    <tr>\n",
              "      <th>2020-12-30 19:00:00+01:00</th>\n",
              "      <td>-26.40</td>\n",
              "    </tr>\n",
              "    <tr>\n",
              "      <th>2020-12-30 20:00:00+01:00</th>\n",
              "      <td>-40.32</td>\n",
              "    </tr>\n",
              "    <tr>\n",
              "      <th>2020-12-30 21:00:00+01:00</th>\n",
              "      <td>-89.88</td>\n",
              "    </tr>\n",
              "    <tr>\n",
              "      <th>2020-12-30 22:00:00+01:00</th>\n",
              "      <td>-108.77</td>\n",
              "    </tr>\n",
              "    <tr>\n",
              "      <th>2020-12-30 23:00:00+01:00</th>\n",
              "      <td>-70.60</td>\n",
              "    </tr>\n",
              "  </tbody>\n",
              "</table>\n",
              "<p>719 rows × 1 columns</p>\n",
              "</div>"
            ],
            "text/plain": [
              "                           Wind Delta__\n",
              "date                                   \n",
              "2020-12-01 01:00:00+01:00         57.45\n",
              "2020-12-01 02:00:00+01:00         10.17\n",
              "2020-12-01 03:00:00+01:00        -14.37\n",
              "2020-12-01 04:00:00+01:00         19.52\n",
              "2020-12-01 05:00:00+01:00         49.48\n",
              "...                                 ...\n",
              "2020-12-30 19:00:00+01:00        -26.40\n",
              "2020-12-30 20:00:00+01:00        -40.32\n",
              "2020-12-30 21:00:00+01:00        -89.88\n",
              "2020-12-30 22:00:00+01:00       -108.77\n",
              "2020-12-30 23:00:00+01:00        -70.60\n",
              "\n",
              "[719 rows x 1 columns]"
            ]
          },
          "metadata": {
            "tags": []
          },
          "execution_count": 20
        }
      ]
    },
    {
      "cell_type": "code",
      "metadata": {
        "colab": {
          "base_uri": "https://localhost:8080/"
        },
        "id": "gDd-xTpAC-ud",
        "outputId": "4a5ee43a-12d1-4427-d0fb-2a78a321af7c"
      },
      "source": [
        "df_comb.columns"
      ],
      "execution_count": 21,
      "outputs": [
        {
          "output_type": "execute_result",
          "data": {
            "text/plain": [
              "Index(['Wind Delta__'], dtype='object')"
            ]
          },
          "metadata": {
            "tags": []
          },
          "execution_count": 21
        }
      ]
    },
    {
      "cell_type": "code",
      "metadata": {
        "id": "FQUYZ3DjDfr1"
      },
      "source": [
        "spot=(pd.read_csv('/content/drive/My Drive/dataset/market_prices_euro.csv', index_col = [\"timestamp\"], parse_dates=True).loc[:,\"SE1_spot\"])\n",
        "imbalance = (pd.read_csv('/content/drive/My Drive/dataset/market_prices_euro.csv', index_col = [\"timestamp\"], parse_dates=True).loc[:,\"SE1_imbalance\"])"
      ],
      "execution_count": 23,
      "outputs": []
    },
    {
      "cell_type": "code",
      "metadata": {
        "id": "zT9QtDdvEFzo"
      },
      "source": [
        "spot=spot.to_frame()\n",
        "imbalance= imbalance.to_frame()"
      ],
      "execution_count": 24,
      "outputs": []
    },
    {
      "cell_type": "code",
      "metadata": {
        "colab": {
          "base_uri": "https://localhost:8080/",
          "height": 447
        },
        "id": "CDzt6BELESCx",
        "outputId": "78ac46c8-c081-4cb4-c81a-0f384a4ed620"
      },
      "source": [
        "spot"
      ],
      "execution_count": 25,
      "outputs": [
        {
          "output_type": "execute_result",
          "data": {
            "text/html": [
              "<div>\n",
              "<style scoped>\n",
              "    .dataframe tbody tr th:only-of-type {\n",
              "        vertical-align: middle;\n",
              "    }\n",
              "\n",
              "    .dataframe tbody tr th {\n",
              "        vertical-align: top;\n",
              "    }\n",
              "\n",
              "    .dataframe thead th {\n",
              "        text-align: right;\n",
              "    }\n",
              "</style>\n",
              "<table border=\"1\" class=\"dataframe\">\n",
              "  <thead>\n",
              "    <tr style=\"text-align: right;\">\n",
              "      <th></th>\n",
              "      <th>SE1_spot</th>\n",
              "    </tr>\n",
              "    <tr>\n",
              "      <th>timestamp</th>\n",
              "      <th></th>\n",
              "    </tr>\n",
              "  </thead>\n",
              "  <tbody>\n",
              "    <tr>\n",
              "      <th>2018-02-01 00:00:00</th>\n",
              "      <td>0.02316</td>\n",
              "    </tr>\n",
              "    <tr>\n",
              "      <th>2018-02-01 01:00:00</th>\n",
              "      <td>0.02478</td>\n",
              "    </tr>\n",
              "    <tr>\n",
              "      <th>2018-02-01 02:00:00</th>\n",
              "      <td>0.02503</td>\n",
              "    </tr>\n",
              "    <tr>\n",
              "      <th>2018-02-01 03:00:00</th>\n",
              "      <td>0.02573</td>\n",
              "    </tr>\n",
              "    <tr>\n",
              "      <th>2018-02-01 04:00:00</th>\n",
              "      <td>0.02684</td>\n",
              "    </tr>\n",
              "    <tr>\n",
              "      <th>...</th>\n",
              "      <td>...</td>\n",
              "    </tr>\n",
              "    <tr>\n",
              "      <th>2021-01-02 19:00:00</th>\n",
              "      <td>0.06229</td>\n",
              "    </tr>\n",
              "    <tr>\n",
              "      <th>2021-01-02 20:00:00</th>\n",
              "      <td>0.05636</td>\n",
              "    </tr>\n",
              "    <tr>\n",
              "      <th>2021-01-02 21:00:00</th>\n",
              "      <td>0.05525</td>\n",
              "    </tr>\n",
              "    <tr>\n",
              "      <th>2021-01-02 22:00:00</th>\n",
              "      <td>0.04940</td>\n",
              "    </tr>\n",
              "    <tr>\n",
              "      <th>2021-01-02 23:00:00</th>\n",
              "      <td>0.04613</td>\n",
              "    </tr>\n",
              "  </tbody>\n",
              "</table>\n",
              "<p>26689 rows × 1 columns</p>\n",
              "</div>"
            ],
            "text/plain": [
              "                     SE1_spot\n",
              "timestamp                    \n",
              "2018-02-01 00:00:00   0.02316\n",
              "2018-02-01 01:00:00   0.02478\n",
              "2018-02-01 02:00:00   0.02503\n",
              "2018-02-01 03:00:00   0.02573\n",
              "2018-02-01 04:00:00   0.02684\n",
              "...                       ...\n",
              "2021-01-02 19:00:00   0.06229\n",
              "2021-01-02 20:00:00   0.05636\n",
              "2021-01-02 21:00:00   0.05525\n",
              "2021-01-02 22:00:00   0.04940\n",
              "2021-01-02 23:00:00   0.04613\n",
              "\n",
              "[26689 rows x 1 columns]"
            ]
          },
          "metadata": {
            "tags": []
          },
          "execution_count": 25
        }
      ]
    },
    {
      "cell_type": "code",
      "metadata": {
        "colab": {
          "base_uri": "https://localhost:8080/",
          "height": 447
        },
        "id": "QLCvZF-uEVv4",
        "outputId": "e5a6ab35-3a6a-41fc-8f2e-e8d7709aaef9"
      },
      "source": [
        "imbalance"
      ],
      "execution_count": 26,
      "outputs": [
        {
          "output_type": "execute_result",
          "data": {
            "text/html": [
              "<div>\n",
              "<style scoped>\n",
              "    .dataframe tbody tr th:only-of-type {\n",
              "        vertical-align: middle;\n",
              "    }\n",
              "\n",
              "    .dataframe tbody tr th {\n",
              "        vertical-align: top;\n",
              "    }\n",
              "\n",
              "    .dataframe thead th {\n",
              "        text-align: right;\n",
              "    }\n",
              "</style>\n",
              "<table border=\"1\" class=\"dataframe\">\n",
              "  <thead>\n",
              "    <tr style=\"text-align: right;\">\n",
              "      <th></th>\n",
              "      <th>SE1_imbalance</th>\n",
              "    </tr>\n",
              "    <tr>\n",
              "      <th>timestamp</th>\n",
              "      <th></th>\n",
              "    </tr>\n",
              "  </thead>\n",
              "  <tbody>\n",
              "    <tr>\n",
              "      <th>2018-02-01 00:00:00</th>\n",
              "      <td>0.00300</td>\n",
              "    </tr>\n",
              "    <tr>\n",
              "      <th>2018-02-01 01:00:00</th>\n",
              "      <td>0.00300</td>\n",
              "    </tr>\n",
              "    <tr>\n",
              "      <th>2018-02-01 02:00:00</th>\n",
              "      <td>0.00300</td>\n",
              "    </tr>\n",
              "    <tr>\n",
              "      <th>2018-02-01 03:00:00</th>\n",
              "      <td>0.02573</td>\n",
              "    </tr>\n",
              "    <tr>\n",
              "      <th>2018-02-01 04:00:00</th>\n",
              "      <td>0.02334</td>\n",
              "    </tr>\n",
              "    <tr>\n",
              "      <th>...</th>\n",
              "      <td>...</td>\n",
              "    </tr>\n",
              "    <tr>\n",
              "      <th>2021-01-02 19:00:00</th>\n",
              "      <td>0.04447</td>\n",
              "    </tr>\n",
              "    <tr>\n",
              "      <th>2021-01-02 20:00:00</th>\n",
              "      <td>0.05636</td>\n",
              "    </tr>\n",
              "    <tr>\n",
              "      <th>2021-01-02 21:00:00</th>\n",
              "      <td>0.05475</td>\n",
              "    </tr>\n",
              "    <tr>\n",
              "      <th>2021-01-02 22:00:00</th>\n",
              "      <td>0.04890</td>\n",
              "    </tr>\n",
              "    <tr>\n",
              "      <th>2021-01-02 23:00:00</th>\n",
              "      <td>0.04563</td>\n",
              "    </tr>\n",
              "  </tbody>\n",
              "</table>\n",
              "<p>26689 rows × 1 columns</p>\n",
              "</div>"
            ],
            "text/plain": [
              "                     SE1_imbalance\n",
              "timestamp                         \n",
              "2018-02-01 00:00:00        0.00300\n",
              "2018-02-01 01:00:00        0.00300\n",
              "2018-02-01 02:00:00        0.00300\n",
              "2018-02-01 03:00:00        0.02573\n",
              "2018-02-01 04:00:00        0.02334\n",
              "...                            ...\n",
              "2021-01-02 19:00:00        0.04447\n",
              "2021-01-02 20:00:00        0.05636\n",
              "2021-01-02 21:00:00        0.05475\n",
              "2021-01-02 22:00:00        0.04890\n",
              "2021-01-02 23:00:00        0.04563\n",
              "\n",
              "[26689 rows x 1 columns]"
            ]
          },
          "metadata": {
            "tags": []
          },
          "execution_count": 26
        }
      ]
    },
    {
      "cell_type": "code",
      "metadata": {
        "colab": {
          "base_uri": "https://localhost:8080/",
          "height": 447
        },
        "id": "eCAq52fSGvEh",
        "outputId": "b398666d-b713-450b-ab08-9444bc5d2543"
      },
      "source": [
        "imbalance.tz_localize(None)"
      ],
      "execution_count": 27,
      "outputs": [
        {
          "output_type": "execute_result",
          "data": {
            "text/html": [
              "<div>\n",
              "<style scoped>\n",
              "    .dataframe tbody tr th:only-of-type {\n",
              "        vertical-align: middle;\n",
              "    }\n",
              "\n",
              "    .dataframe tbody tr th {\n",
              "        vertical-align: top;\n",
              "    }\n",
              "\n",
              "    .dataframe thead th {\n",
              "        text-align: right;\n",
              "    }\n",
              "</style>\n",
              "<table border=\"1\" class=\"dataframe\">\n",
              "  <thead>\n",
              "    <tr style=\"text-align: right;\">\n",
              "      <th></th>\n",
              "      <th>SE1_imbalance</th>\n",
              "    </tr>\n",
              "    <tr>\n",
              "      <th>timestamp</th>\n",
              "      <th></th>\n",
              "    </tr>\n",
              "  </thead>\n",
              "  <tbody>\n",
              "    <tr>\n",
              "      <th>2018-02-01 00:00:00</th>\n",
              "      <td>0.00300</td>\n",
              "    </tr>\n",
              "    <tr>\n",
              "      <th>2018-02-01 01:00:00</th>\n",
              "      <td>0.00300</td>\n",
              "    </tr>\n",
              "    <tr>\n",
              "      <th>2018-02-01 02:00:00</th>\n",
              "      <td>0.00300</td>\n",
              "    </tr>\n",
              "    <tr>\n",
              "      <th>2018-02-01 03:00:00</th>\n",
              "      <td>0.02573</td>\n",
              "    </tr>\n",
              "    <tr>\n",
              "      <th>2018-02-01 04:00:00</th>\n",
              "      <td>0.02334</td>\n",
              "    </tr>\n",
              "    <tr>\n",
              "      <th>...</th>\n",
              "      <td>...</td>\n",
              "    </tr>\n",
              "    <tr>\n",
              "      <th>2021-01-02 19:00:00</th>\n",
              "      <td>0.04447</td>\n",
              "    </tr>\n",
              "    <tr>\n",
              "      <th>2021-01-02 20:00:00</th>\n",
              "      <td>0.05636</td>\n",
              "    </tr>\n",
              "    <tr>\n",
              "      <th>2021-01-02 21:00:00</th>\n",
              "      <td>0.05475</td>\n",
              "    </tr>\n",
              "    <tr>\n",
              "      <th>2021-01-02 22:00:00</th>\n",
              "      <td>0.04890</td>\n",
              "    </tr>\n",
              "    <tr>\n",
              "      <th>2021-01-02 23:00:00</th>\n",
              "      <td>0.04563</td>\n",
              "    </tr>\n",
              "  </tbody>\n",
              "</table>\n",
              "<p>26689 rows × 1 columns</p>\n",
              "</div>"
            ],
            "text/plain": [
              "                     SE1_imbalance\n",
              "timestamp                         \n",
              "2018-02-01 00:00:00        0.00300\n",
              "2018-02-01 01:00:00        0.00300\n",
              "2018-02-01 02:00:00        0.00300\n",
              "2018-02-01 03:00:00        0.02573\n",
              "2018-02-01 04:00:00        0.02334\n",
              "...                            ...\n",
              "2021-01-02 19:00:00        0.04447\n",
              "2021-01-02 20:00:00        0.05636\n",
              "2021-01-02 21:00:00        0.05475\n",
              "2021-01-02 22:00:00        0.04890\n",
              "2021-01-02 23:00:00        0.04563\n",
              "\n",
              "[26689 rows x 1 columns]"
            ]
          },
          "metadata": {
            "tags": []
          },
          "execution_count": 27
        }
      ]
    },
    {
      "cell_type": "code",
      "metadata": {
        "id": "VCUDkC5hEY4-"
      },
      "source": [
        "imbalance.index = pd.to_datetime(imbalance.index, utc=True).tz_convert('Europe/Stockholm')"
      ],
      "execution_count": 28,
      "outputs": []
    },
    {
      "cell_type": "code",
      "metadata": {
        "colab": {
          "base_uri": "https://localhost:8080/",
          "height": 447
        },
        "id": "BIUo8HNYFIWv",
        "outputId": "00a85a0a-137d-4414-da76-fe44204fa1a9"
      },
      "source": [
        "imbalance"
      ],
      "execution_count": 29,
      "outputs": [
        {
          "output_type": "execute_result",
          "data": {
            "text/html": [
              "<div>\n",
              "<style scoped>\n",
              "    .dataframe tbody tr th:only-of-type {\n",
              "        vertical-align: middle;\n",
              "    }\n",
              "\n",
              "    .dataframe tbody tr th {\n",
              "        vertical-align: top;\n",
              "    }\n",
              "\n",
              "    .dataframe thead th {\n",
              "        text-align: right;\n",
              "    }\n",
              "</style>\n",
              "<table border=\"1\" class=\"dataframe\">\n",
              "  <thead>\n",
              "    <tr style=\"text-align: right;\">\n",
              "      <th></th>\n",
              "      <th>SE1_imbalance</th>\n",
              "    </tr>\n",
              "    <tr>\n",
              "      <th>timestamp</th>\n",
              "      <th></th>\n",
              "    </tr>\n",
              "  </thead>\n",
              "  <tbody>\n",
              "    <tr>\n",
              "      <th>2018-02-01 01:00:00+01:00</th>\n",
              "      <td>0.00300</td>\n",
              "    </tr>\n",
              "    <tr>\n",
              "      <th>2018-02-01 02:00:00+01:00</th>\n",
              "      <td>0.00300</td>\n",
              "    </tr>\n",
              "    <tr>\n",
              "      <th>2018-02-01 03:00:00+01:00</th>\n",
              "      <td>0.00300</td>\n",
              "    </tr>\n",
              "    <tr>\n",
              "      <th>2018-02-01 04:00:00+01:00</th>\n",
              "      <td>0.02573</td>\n",
              "    </tr>\n",
              "    <tr>\n",
              "      <th>2018-02-01 05:00:00+01:00</th>\n",
              "      <td>0.02334</td>\n",
              "    </tr>\n",
              "    <tr>\n",
              "      <th>...</th>\n",
              "      <td>...</td>\n",
              "    </tr>\n",
              "    <tr>\n",
              "      <th>2021-01-02 20:00:00+01:00</th>\n",
              "      <td>0.04447</td>\n",
              "    </tr>\n",
              "    <tr>\n",
              "      <th>2021-01-02 21:00:00+01:00</th>\n",
              "      <td>0.05636</td>\n",
              "    </tr>\n",
              "    <tr>\n",
              "      <th>2021-01-02 22:00:00+01:00</th>\n",
              "      <td>0.05475</td>\n",
              "    </tr>\n",
              "    <tr>\n",
              "      <th>2021-01-02 23:00:00+01:00</th>\n",
              "      <td>0.04890</td>\n",
              "    </tr>\n",
              "    <tr>\n",
              "      <th>2021-01-03 00:00:00+01:00</th>\n",
              "      <td>0.04563</td>\n",
              "    </tr>\n",
              "  </tbody>\n",
              "</table>\n",
              "<p>26689 rows × 1 columns</p>\n",
              "</div>"
            ],
            "text/plain": [
              "                           SE1_imbalance\n",
              "timestamp                               \n",
              "2018-02-01 01:00:00+01:00        0.00300\n",
              "2018-02-01 02:00:00+01:00        0.00300\n",
              "2018-02-01 03:00:00+01:00        0.00300\n",
              "2018-02-01 04:00:00+01:00        0.02573\n",
              "2018-02-01 05:00:00+01:00        0.02334\n",
              "...                                  ...\n",
              "2021-01-02 20:00:00+01:00        0.04447\n",
              "2021-01-02 21:00:00+01:00        0.05636\n",
              "2021-01-02 22:00:00+01:00        0.05475\n",
              "2021-01-02 23:00:00+01:00        0.04890\n",
              "2021-01-03 00:00:00+01:00        0.04563\n",
              "\n",
              "[26689 rows x 1 columns]"
            ]
          },
          "metadata": {
            "tags": []
          },
          "execution_count": 29
        }
      ]
    },
    {
      "cell_type": "code",
      "metadata": {
        "colab": {
          "base_uri": "https://localhost:8080/",
          "height": 447
        },
        "id": "itQVjvy6G9aV",
        "outputId": "3021179c-c3b6-43b1-cafa-e537a20cb31e"
      },
      "source": [
        "spot.tz_localize(None)"
      ],
      "execution_count": 30,
      "outputs": [
        {
          "output_type": "execute_result",
          "data": {
            "text/html": [
              "<div>\n",
              "<style scoped>\n",
              "    .dataframe tbody tr th:only-of-type {\n",
              "        vertical-align: middle;\n",
              "    }\n",
              "\n",
              "    .dataframe tbody tr th {\n",
              "        vertical-align: top;\n",
              "    }\n",
              "\n",
              "    .dataframe thead th {\n",
              "        text-align: right;\n",
              "    }\n",
              "</style>\n",
              "<table border=\"1\" class=\"dataframe\">\n",
              "  <thead>\n",
              "    <tr style=\"text-align: right;\">\n",
              "      <th></th>\n",
              "      <th>SE1_spot</th>\n",
              "    </tr>\n",
              "    <tr>\n",
              "      <th>timestamp</th>\n",
              "      <th></th>\n",
              "    </tr>\n",
              "  </thead>\n",
              "  <tbody>\n",
              "    <tr>\n",
              "      <th>2018-02-01 00:00:00</th>\n",
              "      <td>0.02316</td>\n",
              "    </tr>\n",
              "    <tr>\n",
              "      <th>2018-02-01 01:00:00</th>\n",
              "      <td>0.02478</td>\n",
              "    </tr>\n",
              "    <tr>\n",
              "      <th>2018-02-01 02:00:00</th>\n",
              "      <td>0.02503</td>\n",
              "    </tr>\n",
              "    <tr>\n",
              "      <th>2018-02-01 03:00:00</th>\n",
              "      <td>0.02573</td>\n",
              "    </tr>\n",
              "    <tr>\n",
              "      <th>2018-02-01 04:00:00</th>\n",
              "      <td>0.02684</td>\n",
              "    </tr>\n",
              "    <tr>\n",
              "      <th>...</th>\n",
              "      <td>...</td>\n",
              "    </tr>\n",
              "    <tr>\n",
              "      <th>2021-01-02 19:00:00</th>\n",
              "      <td>0.06229</td>\n",
              "    </tr>\n",
              "    <tr>\n",
              "      <th>2021-01-02 20:00:00</th>\n",
              "      <td>0.05636</td>\n",
              "    </tr>\n",
              "    <tr>\n",
              "      <th>2021-01-02 21:00:00</th>\n",
              "      <td>0.05525</td>\n",
              "    </tr>\n",
              "    <tr>\n",
              "      <th>2021-01-02 22:00:00</th>\n",
              "      <td>0.04940</td>\n",
              "    </tr>\n",
              "    <tr>\n",
              "      <th>2021-01-02 23:00:00</th>\n",
              "      <td>0.04613</td>\n",
              "    </tr>\n",
              "  </tbody>\n",
              "</table>\n",
              "<p>26689 rows × 1 columns</p>\n",
              "</div>"
            ],
            "text/plain": [
              "                     SE1_spot\n",
              "timestamp                    \n",
              "2018-02-01 00:00:00   0.02316\n",
              "2018-02-01 01:00:00   0.02478\n",
              "2018-02-01 02:00:00   0.02503\n",
              "2018-02-01 03:00:00   0.02573\n",
              "2018-02-01 04:00:00   0.02684\n",
              "...                       ...\n",
              "2021-01-02 19:00:00   0.06229\n",
              "2021-01-02 20:00:00   0.05636\n",
              "2021-01-02 21:00:00   0.05525\n",
              "2021-01-02 22:00:00   0.04940\n",
              "2021-01-02 23:00:00   0.04613\n",
              "\n",
              "[26689 rows x 1 columns]"
            ]
          },
          "metadata": {
            "tags": []
          },
          "execution_count": 30
        }
      ]
    },
    {
      "cell_type": "code",
      "metadata": {
        "id": "fyoOegmrF9Io"
      },
      "source": [
        "spot.index = pd.to_datetime(spot.index, utc=True).tz_convert('Europe/Stockholm')"
      ],
      "execution_count": 31,
      "outputs": []
    },
    {
      "cell_type": "code",
      "metadata": {
        "colab": {
          "base_uri": "https://localhost:8080/",
          "height": 447
        },
        "id": "9sCvaodcGCCE",
        "outputId": "f6e29c77-89f5-46b9-c494-4886de9796a4"
      },
      "source": [
        "spot"
      ],
      "execution_count": 32,
      "outputs": [
        {
          "output_type": "execute_result",
          "data": {
            "text/html": [
              "<div>\n",
              "<style scoped>\n",
              "    .dataframe tbody tr th:only-of-type {\n",
              "        vertical-align: middle;\n",
              "    }\n",
              "\n",
              "    .dataframe tbody tr th {\n",
              "        vertical-align: top;\n",
              "    }\n",
              "\n",
              "    .dataframe thead th {\n",
              "        text-align: right;\n",
              "    }\n",
              "</style>\n",
              "<table border=\"1\" class=\"dataframe\">\n",
              "  <thead>\n",
              "    <tr style=\"text-align: right;\">\n",
              "      <th></th>\n",
              "      <th>SE1_spot</th>\n",
              "    </tr>\n",
              "    <tr>\n",
              "      <th>timestamp</th>\n",
              "      <th></th>\n",
              "    </tr>\n",
              "  </thead>\n",
              "  <tbody>\n",
              "    <tr>\n",
              "      <th>2018-02-01 01:00:00+01:00</th>\n",
              "      <td>0.02316</td>\n",
              "    </tr>\n",
              "    <tr>\n",
              "      <th>2018-02-01 02:00:00+01:00</th>\n",
              "      <td>0.02478</td>\n",
              "    </tr>\n",
              "    <tr>\n",
              "      <th>2018-02-01 03:00:00+01:00</th>\n",
              "      <td>0.02503</td>\n",
              "    </tr>\n",
              "    <tr>\n",
              "      <th>2018-02-01 04:00:00+01:00</th>\n",
              "      <td>0.02573</td>\n",
              "    </tr>\n",
              "    <tr>\n",
              "      <th>2018-02-01 05:00:00+01:00</th>\n",
              "      <td>0.02684</td>\n",
              "    </tr>\n",
              "    <tr>\n",
              "      <th>...</th>\n",
              "      <td>...</td>\n",
              "    </tr>\n",
              "    <tr>\n",
              "      <th>2021-01-02 20:00:00+01:00</th>\n",
              "      <td>0.06229</td>\n",
              "    </tr>\n",
              "    <tr>\n",
              "      <th>2021-01-02 21:00:00+01:00</th>\n",
              "      <td>0.05636</td>\n",
              "    </tr>\n",
              "    <tr>\n",
              "      <th>2021-01-02 22:00:00+01:00</th>\n",
              "      <td>0.05525</td>\n",
              "    </tr>\n",
              "    <tr>\n",
              "      <th>2021-01-02 23:00:00+01:00</th>\n",
              "      <td>0.04940</td>\n",
              "    </tr>\n",
              "    <tr>\n",
              "      <th>2021-01-03 00:00:00+01:00</th>\n",
              "      <td>0.04613</td>\n",
              "    </tr>\n",
              "  </tbody>\n",
              "</table>\n",
              "<p>26689 rows × 1 columns</p>\n",
              "</div>"
            ],
            "text/plain": [
              "                           SE1_spot\n",
              "timestamp                          \n",
              "2018-02-01 01:00:00+01:00   0.02316\n",
              "2018-02-01 02:00:00+01:00   0.02478\n",
              "2018-02-01 03:00:00+01:00   0.02503\n",
              "2018-02-01 04:00:00+01:00   0.02573\n",
              "2018-02-01 05:00:00+01:00   0.02684\n",
              "...                             ...\n",
              "2021-01-02 20:00:00+01:00   0.06229\n",
              "2021-01-02 21:00:00+01:00   0.05636\n",
              "2021-01-02 22:00:00+01:00   0.05525\n",
              "2021-01-02 23:00:00+01:00   0.04940\n",
              "2021-01-03 00:00:00+01:00   0.04613\n",
              "\n",
              "[26689 rows x 1 columns]"
            ]
          },
          "metadata": {
            "tags": []
          },
          "execution_count": 32
        }
      ]
    },
    {
      "cell_type": "code",
      "metadata": {
        "colab": {
          "base_uri": "https://localhost:8080/",
          "height": 447
        },
        "id": "GuWOUN0MGT_X",
        "outputId": "ead3aff3-c093-4929-baf4-4e10b50cb900"
      },
      "source": [
        "df_comb.tz_convert(None)"
      ],
      "execution_count": 33,
      "outputs": [
        {
          "output_type": "execute_result",
          "data": {
            "text/html": [
              "<div>\n",
              "<style scoped>\n",
              "    .dataframe tbody tr th:only-of-type {\n",
              "        vertical-align: middle;\n",
              "    }\n",
              "\n",
              "    .dataframe tbody tr th {\n",
              "        vertical-align: top;\n",
              "    }\n",
              "\n",
              "    .dataframe thead th {\n",
              "        text-align: right;\n",
              "    }\n",
              "</style>\n",
              "<table border=\"1\" class=\"dataframe\">\n",
              "  <thead>\n",
              "    <tr style=\"text-align: right;\">\n",
              "      <th></th>\n",
              "      <th>Wind Delta__</th>\n",
              "    </tr>\n",
              "    <tr>\n",
              "      <th>date</th>\n",
              "      <th></th>\n",
              "    </tr>\n",
              "  </thead>\n",
              "  <tbody>\n",
              "    <tr>\n",
              "      <th>2020-12-01 00:00:00</th>\n",
              "      <td>57.45</td>\n",
              "    </tr>\n",
              "    <tr>\n",
              "      <th>2020-12-01 01:00:00</th>\n",
              "      <td>10.17</td>\n",
              "    </tr>\n",
              "    <tr>\n",
              "      <th>2020-12-01 02:00:00</th>\n",
              "      <td>-14.37</td>\n",
              "    </tr>\n",
              "    <tr>\n",
              "      <th>2020-12-01 03:00:00</th>\n",
              "      <td>19.52</td>\n",
              "    </tr>\n",
              "    <tr>\n",
              "      <th>2020-12-01 04:00:00</th>\n",
              "      <td>49.48</td>\n",
              "    </tr>\n",
              "    <tr>\n",
              "      <th>...</th>\n",
              "      <td>...</td>\n",
              "    </tr>\n",
              "    <tr>\n",
              "      <th>2020-12-30 18:00:00</th>\n",
              "      <td>-26.40</td>\n",
              "    </tr>\n",
              "    <tr>\n",
              "      <th>2020-12-30 19:00:00</th>\n",
              "      <td>-40.32</td>\n",
              "    </tr>\n",
              "    <tr>\n",
              "      <th>2020-12-30 20:00:00</th>\n",
              "      <td>-89.88</td>\n",
              "    </tr>\n",
              "    <tr>\n",
              "      <th>2020-12-30 21:00:00</th>\n",
              "      <td>-108.77</td>\n",
              "    </tr>\n",
              "    <tr>\n",
              "      <th>2020-12-30 22:00:00</th>\n",
              "      <td>-70.60</td>\n",
              "    </tr>\n",
              "  </tbody>\n",
              "</table>\n",
              "<p>719 rows × 1 columns</p>\n",
              "</div>"
            ],
            "text/plain": [
              "                     Wind Delta__\n",
              "date                             \n",
              "2020-12-01 00:00:00         57.45\n",
              "2020-12-01 01:00:00         10.17\n",
              "2020-12-01 02:00:00        -14.37\n",
              "2020-12-01 03:00:00         19.52\n",
              "2020-12-01 04:00:00         49.48\n",
              "...                           ...\n",
              "2020-12-30 18:00:00        -26.40\n",
              "2020-12-30 19:00:00        -40.32\n",
              "2020-12-30 20:00:00        -89.88\n",
              "2020-12-30 21:00:00       -108.77\n",
              "2020-12-30 22:00:00        -70.60\n",
              "\n",
              "[719 rows x 1 columns]"
            ]
          },
          "metadata": {
            "tags": []
          },
          "execution_count": 33
        }
      ]
    },
    {
      "cell_type": "code",
      "metadata": {
        "id": "lQNMFbGTGcFP"
      },
      "source": [
        "df_comb.index = pd.to_datetime(df_comb.index, utc=True).tz_convert('Europe/Stockholm')"
      ],
      "execution_count": 35,
      "outputs": []
    },
    {
      "cell_type": "code",
      "metadata": {
        "colab": {
          "base_uri": "https://localhost:8080/",
          "height": 447
        },
        "id": "ti5ix0t0Ghvo",
        "outputId": "17506afd-4b44-4cbb-d78b-634ae2d02cfd"
      },
      "source": [
        "df_comb"
      ],
      "execution_count": 36,
      "outputs": [
        {
          "output_type": "execute_result",
          "data": {
            "text/html": [
              "<div>\n",
              "<style scoped>\n",
              "    .dataframe tbody tr th:only-of-type {\n",
              "        vertical-align: middle;\n",
              "    }\n",
              "\n",
              "    .dataframe tbody tr th {\n",
              "        vertical-align: top;\n",
              "    }\n",
              "\n",
              "    .dataframe thead th {\n",
              "        text-align: right;\n",
              "    }\n",
              "</style>\n",
              "<table border=\"1\" class=\"dataframe\">\n",
              "  <thead>\n",
              "    <tr style=\"text-align: right;\">\n",
              "      <th></th>\n",
              "      <th>Wind Delta__</th>\n",
              "    </tr>\n",
              "    <tr>\n",
              "      <th>date</th>\n",
              "      <th></th>\n",
              "    </tr>\n",
              "  </thead>\n",
              "  <tbody>\n",
              "    <tr>\n",
              "      <th>2020-12-01 01:00:00+01:00</th>\n",
              "      <td>57.45</td>\n",
              "    </tr>\n",
              "    <tr>\n",
              "      <th>2020-12-01 02:00:00+01:00</th>\n",
              "      <td>10.17</td>\n",
              "    </tr>\n",
              "    <tr>\n",
              "      <th>2020-12-01 03:00:00+01:00</th>\n",
              "      <td>-14.37</td>\n",
              "    </tr>\n",
              "    <tr>\n",
              "      <th>2020-12-01 04:00:00+01:00</th>\n",
              "      <td>19.52</td>\n",
              "    </tr>\n",
              "    <tr>\n",
              "      <th>2020-12-01 05:00:00+01:00</th>\n",
              "      <td>49.48</td>\n",
              "    </tr>\n",
              "    <tr>\n",
              "      <th>...</th>\n",
              "      <td>...</td>\n",
              "    </tr>\n",
              "    <tr>\n",
              "      <th>2020-12-30 19:00:00+01:00</th>\n",
              "      <td>-26.40</td>\n",
              "    </tr>\n",
              "    <tr>\n",
              "      <th>2020-12-30 20:00:00+01:00</th>\n",
              "      <td>-40.32</td>\n",
              "    </tr>\n",
              "    <tr>\n",
              "      <th>2020-12-30 21:00:00+01:00</th>\n",
              "      <td>-89.88</td>\n",
              "    </tr>\n",
              "    <tr>\n",
              "      <th>2020-12-30 22:00:00+01:00</th>\n",
              "      <td>-108.77</td>\n",
              "    </tr>\n",
              "    <tr>\n",
              "      <th>2020-12-30 23:00:00+01:00</th>\n",
              "      <td>-70.60</td>\n",
              "    </tr>\n",
              "  </tbody>\n",
              "</table>\n",
              "<p>719 rows × 1 columns</p>\n",
              "</div>"
            ],
            "text/plain": [
              "                           Wind Delta__\n",
              "date                                   \n",
              "2020-12-01 01:00:00+01:00         57.45\n",
              "2020-12-01 02:00:00+01:00         10.17\n",
              "2020-12-01 03:00:00+01:00        -14.37\n",
              "2020-12-01 04:00:00+01:00         19.52\n",
              "2020-12-01 05:00:00+01:00         49.48\n",
              "...                                 ...\n",
              "2020-12-30 19:00:00+01:00        -26.40\n",
              "2020-12-30 20:00:00+01:00        -40.32\n",
              "2020-12-30 21:00:00+01:00        -89.88\n",
              "2020-12-30 22:00:00+01:00       -108.77\n",
              "2020-12-30 23:00:00+01:00        -70.60\n",
              "\n",
              "[719 rows x 1 columns]"
            ]
          },
          "metadata": {
            "tags": []
          },
          "execution_count": 36
        }
      ]
    },
    {
      "cell_type": "code",
      "metadata": {
        "colab": {
          "base_uri": "https://localhost:8080/",
          "height": 417
        },
        "id": "JemKkElKHeWO",
        "outputId": "2d99652e-12b5-40cc-a41d-1271a4f750a3"
      },
      "source": [
        "df_plot = pd.merge(df_comb, spot , left_index=True, right_index=True, how='inner')\n",
        "df_plot"
      ],
      "execution_count": 37,
      "outputs": [
        {
          "output_type": "execute_result",
          "data": {
            "text/html": [
              "<div>\n",
              "<style scoped>\n",
              "    .dataframe tbody tr th:only-of-type {\n",
              "        vertical-align: middle;\n",
              "    }\n",
              "\n",
              "    .dataframe tbody tr th {\n",
              "        vertical-align: top;\n",
              "    }\n",
              "\n",
              "    .dataframe thead th {\n",
              "        text-align: right;\n",
              "    }\n",
              "</style>\n",
              "<table border=\"1\" class=\"dataframe\">\n",
              "  <thead>\n",
              "    <tr style=\"text-align: right;\">\n",
              "      <th></th>\n",
              "      <th>Wind Delta__</th>\n",
              "      <th>SE1_spot</th>\n",
              "    </tr>\n",
              "  </thead>\n",
              "  <tbody>\n",
              "    <tr>\n",
              "      <th>2020-12-01 01:00:00+01:00</th>\n",
              "      <td>57.45</td>\n",
              "      <td>0.01937</td>\n",
              "    </tr>\n",
              "    <tr>\n",
              "      <th>2020-12-01 02:00:00+01:00</th>\n",
              "      <td>10.17</td>\n",
              "      <td>0.01836</td>\n",
              "    </tr>\n",
              "    <tr>\n",
              "      <th>2020-12-01 03:00:00+01:00</th>\n",
              "      <td>-14.37</td>\n",
              "      <td>0.01834</td>\n",
              "    </tr>\n",
              "    <tr>\n",
              "      <th>2020-12-01 04:00:00+01:00</th>\n",
              "      <td>19.52</td>\n",
              "      <td>0.01816</td>\n",
              "    </tr>\n",
              "    <tr>\n",
              "      <th>2020-12-01 05:00:00+01:00</th>\n",
              "      <td>49.48</td>\n",
              "      <td>0.01866</td>\n",
              "    </tr>\n",
              "    <tr>\n",
              "      <th>...</th>\n",
              "      <td>...</td>\n",
              "      <td>...</td>\n",
              "    </tr>\n",
              "    <tr>\n",
              "      <th>2020-12-30 19:00:00+01:00</th>\n",
              "      <td>-26.40</td>\n",
              "      <td>0.02036</td>\n",
              "    </tr>\n",
              "    <tr>\n",
              "      <th>2020-12-30 20:00:00+01:00</th>\n",
              "      <td>-40.32</td>\n",
              "      <td>0.02061</td>\n",
              "    </tr>\n",
              "    <tr>\n",
              "      <th>2020-12-30 21:00:00+01:00</th>\n",
              "      <td>-89.88</td>\n",
              "      <td>0.01997</td>\n",
              "    </tr>\n",
              "    <tr>\n",
              "      <th>2020-12-30 22:00:00+01:00</th>\n",
              "      <td>-108.77</td>\n",
              "      <td>0.02070</td>\n",
              "    </tr>\n",
              "    <tr>\n",
              "      <th>2020-12-30 23:00:00+01:00</th>\n",
              "      <td>-70.60</td>\n",
              "      <td>0.02094</td>\n",
              "    </tr>\n",
              "  </tbody>\n",
              "</table>\n",
              "<p>700 rows × 2 columns</p>\n",
              "</div>"
            ],
            "text/plain": [
              "                           Wind Delta__  SE1_spot\n",
              "2020-12-01 01:00:00+01:00         57.45   0.01937\n",
              "2020-12-01 02:00:00+01:00         10.17   0.01836\n",
              "2020-12-01 03:00:00+01:00        -14.37   0.01834\n",
              "2020-12-01 04:00:00+01:00         19.52   0.01816\n",
              "2020-12-01 05:00:00+01:00         49.48   0.01866\n",
              "...                                 ...       ...\n",
              "2020-12-30 19:00:00+01:00        -26.40   0.02036\n",
              "2020-12-30 20:00:00+01:00        -40.32   0.02061\n",
              "2020-12-30 21:00:00+01:00        -89.88   0.01997\n",
              "2020-12-30 22:00:00+01:00       -108.77   0.02070\n",
              "2020-12-30 23:00:00+01:00        -70.60   0.02094\n",
              "\n",
              "[700 rows x 2 columns]"
            ]
          },
          "metadata": {
            "tags": []
          },
          "execution_count": 37
        }
      ]
    },
    {
      "cell_type": "code",
      "metadata": {
        "colab": {
          "base_uri": "https://localhost:8080/",
          "height": 417
        },
        "id": "MnMLnJYAHnQh",
        "outputId": "b7cba6b4-e842-45f2-df4f-41c192bc3e28"
      },
      "source": [
        "df_plot = pd.merge(df_plot, imbalance, left_index=True, right_index=True, how='inner')\n",
        "df_plot"
      ],
      "execution_count": 38,
      "outputs": [
        {
          "output_type": "execute_result",
          "data": {
            "text/html": [
              "<div>\n",
              "<style scoped>\n",
              "    .dataframe tbody tr th:only-of-type {\n",
              "        vertical-align: middle;\n",
              "    }\n",
              "\n",
              "    .dataframe tbody tr th {\n",
              "        vertical-align: top;\n",
              "    }\n",
              "\n",
              "    .dataframe thead th {\n",
              "        text-align: right;\n",
              "    }\n",
              "</style>\n",
              "<table border=\"1\" class=\"dataframe\">\n",
              "  <thead>\n",
              "    <tr style=\"text-align: right;\">\n",
              "      <th></th>\n",
              "      <th>Wind Delta__</th>\n",
              "      <th>SE1_spot</th>\n",
              "      <th>SE1_imbalance</th>\n",
              "    </tr>\n",
              "  </thead>\n",
              "  <tbody>\n",
              "    <tr>\n",
              "      <th>2020-12-01 01:00:00+01:00</th>\n",
              "      <td>57.45</td>\n",
              "      <td>0.01937</td>\n",
              "      <td>0.01500</td>\n",
              "    </tr>\n",
              "    <tr>\n",
              "      <th>2020-12-01 02:00:00+01:00</th>\n",
              "      <td>10.17</td>\n",
              "      <td>0.01836</td>\n",
              "      <td>0.01500</td>\n",
              "    </tr>\n",
              "    <tr>\n",
              "      <th>2020-12-01 03:00:00+01:00</th>\n",
              "      <td>-14.37</td>\n",
              "      <td>0.01834</td>\n",
              "      <td>0.01500</td>\n",
              "    </tr>\n",
              "    <tr>\n",
              "      <th>2020-12-01 04:00:00+01:00</th>\n",
              "      <td>19.52</td>\n",
              "      <td>0.01816</td>\n",
              "      <td>0.01012</td>\n",
              "    </tr>\n",
              "    <tr>\n",
              "      <th>2020-12-01 05:00:00+01:00</th>\n",
              "      <td>49.48</td>\n",
              "      <td>0.01866</td>\n",
              "      <td>0.00950</td>\n",
              "    </tr>\n",
              "    <tr>\n",
              "      <th>...</th>\n",
              "      <td>...</td>\n",
              "      <td>...</td>\n",
              "      <td>...</td>\n",
              "    </tr>\n",
              "    <tr>\n",
              "      <th>2020-12-30 19:00:00+01:00</th>\n",
              "      <td>-26.40</td>\n",
              "      <td>0.02036</td>\n",
              "      <td>0.02036</td>\n",
              "    </tr>\n",
              "    <tr>\n",
              "      <th>2020-12-30 20:00:00+01:00</th>\n",
              "      <td>-40.32</td>\n",
              "      <td>0.02061</td>\n",
              "      <td>0.02061</td>\n",
              "    </tr>\n",
              "    <tr>\n",
              "      <th>2020-12-30 21:00:00+01:00</th>\n",
              "      <td>-89.88</td>\n",
              "      <td>0.01997</td>\n",
              "      <td>0.01997</td>\n",
              "    </tr>\n",
              "    <tr>\n",
              "      <th>2020-12-30 22:00:00+01:00</th>\n",
              "      <td>-108.77</td>\n",
              "      <td>0.02070</td>\n",
              "      <td>0.02070</td>\n",
              "    </tr>\n",
              "    <tr>\n",
              "      <th>2020-12-30 23:00:00+01:00</th>\n",
              "      <td>-70.60</td>\n",
              "      <td>0.02094</td>\n",
              "      <td>0.02094</td>\n",
              "    </tr>\n",
              "  </tbody>\n",
              "</table>\n",
              "<p>700 rows × 3 columns</p>\n",
              "</div>"
            ],
            "text/plain": [
              "                           Wind Delta__  SE1_spot  SE1_imbalance\n",
              "2020-12-01 01:00:00+01:00         57.45   0.01937        0.01500\n",
              "2020-12-01 02:00:00+01:00         10.17   0.01836        0.01500\n",
              "2020-12-01 03:00:00+01:00        -14.37   0.01834        0.01500\n",
              "2020-12-01 04:00:00+01:00         19.52   0.01816        0.01012\n",
              "2020-12-01 05:00:00+01:00         49.48   0.01866        0.00950\n",
              "...                                 ...       ...            ...\n",
              "2020-12-30 19:00:00+01:00        -26.40   0.02036        0.02036\n",
              "2020-12-30 20:00:00+01:00        -40.32   0.02061        0.02061\n",
              "2020-12-30 21:00:00+01:00        -89.88   0.01997        0.01997\n",
              "2020-12-30 22:00:00+01:00       -108.77   0.02070        0.02070\n",
              "2020-12-30 23:00:00+01:00        -70.60   0.02094        0.02094\n",
              "\n",
              "[700 rows x 3 columns]"
            ]
          },
          "metadata": {
            "tags": []
          },
          "execution_count": 38
        }
      ]
    },
    {
      "cell_type": "code",
      "metadata": {
        "colab": {
          "base_uri": "https://localhost:8080/"
        },
        "id": "MXoV0ri3H0jT",
        "outputId": "6eebf481-d678-42f0-edc6-a4cc8e6196be"
      },
      "source": [
        "df_plot.columns"
      ],
      "execution_count": 39,
      "outputs": [
        {
          "output_type": "execute_result",
          "data": {
            "text/plain": [
              "Index(['Wind Delta__', 'SE1_spot', 'SE1_imbalance'], dtype='object')"
            ]
          },
          "metadata": {
            "tags": []
          },
          "execution_count": 39
        }
      ]
    },
    {
      "cell_type": "code",
      "metadata": {
        "id": "DdrgNznDH4cU"
      },
      "source": [
        "df_plot['Direction']= df_plot['SE1_spot']-df_plot['SE1_imbalance']"
      ],
      "execution_count": 41,
      "outputs": []
    },
    {
      "cell_type": "code",
      "metadata": {
        "colab": {
          "base_uri": "https://localhost:8080/",
          "height": 417
        },
        "id": "7mOdK6sxIFAx",
        "outputId": "dcd213a6-f5c5-4a31-802a-649cc344db93"
      },
      "source": [
        "df_plot"
      ],
      "execution_count": 42,
      "outputs": [
        {
          "output_type": "execute_result",
          "data": {
            "text/html": [
              "<div>\n",
              "<style scoped>\n",
              "    .dataframe tbody tr th:only-of-type {\n",
              "        vertical-align: middle;\n",
              "    }\n",
              "\n",
              "    .dataframe tbody tr th {\n",
              "        vertical-align: top;\n",
              "    }\n",
              "\n",
              "    .dataframe thead th {\n",
              "        text-align: right;\n",
              "    }\n",
              "</style>\n",
              "<table border=\"1\" class=\"dataframe\">\n",
              "  <thead>\n",
              "    <tr style=\"text-align: right;\">\n",
              "      <th></th>\n",
              "      <th>Wind Delta__</th>\n",
              "      <th>SE1_spot</th>\n",
              "      <th>SE1_imbalance</th>\n",
              "      <th>Direction</th>\n",
              "    </tr>\n",
              "  </thead>\n",
              "  <tbody>\n",
              "    <tr>\n",
              "      <th>2020-12-01 01:00:00+01:00</th>\n",
              "      <td>57.45</td>\n",
              "      <td>0.01937</td>\n",
              "      <td>0.01500</td>\n",
              "      <td>0.00437</td>\n",
              "    </tr>\n",
              "    <tr>\n",
              "      <th>2020-12-01 02:00:00+01:00</th>\n",
              "      <td>10.17</td>\n",
              "      <td>0.01836</td>\n",
              "      <td>0.01500</td>\n",
              "      <td>0.00336</td>\n",
              "    </tr>\n",
              "    <tr>\n",
              "      <th>2020-12-01 03:00:00+01:00</th>\n",
              "      <td>-14.37</td>\n",
              "      <td>0.01834</td>\n",
              "      <td>0.01500</td>\n",
              "      <td>0.00334</td>\n",
              "    </tr>\n",
              "    <tr>\n",
              "      <th>2020-12-01 04:00:00+01:00</th>\n",
              "      <td>19.52</td>\n",
              "      <td>0.01816</td>\n",
              "      <td>0.01012</td>\n",
              "      <td>0.00804</td>\n",
              "    </tr>\n",
              "    <tr>\n",
              "      <th>2020-12-01 05:00:00+01:00</th>\n",
              "      <td>49.48</td>\n",
              "      <td>0.01866</td>\n",
              "      <td>0.00950</td>\n",
              "      <td>0.00916</td>\n",
              "    </tr>\n",
              "    <tr>\n",
              "      <th>...</th>\n",
              "      <td>...</td>\n",
              "      <td>...</td>\n",
              "      <td>...</td>\n",
              "      <td>...</td>\n",
              "    </tr>\n",
              "    <tr>\n",
              "      <th>2020-12-30 19:00:00+01:00</th>\n",
              "      <td>-26.40</td>\n",
              "      <td>0.02036</td>\n",
              "      <td>0.02036</td>\n",
              "      <td>0.00000</td>\n",
              "    </tr>\n",
              "    <tr>\n",
              "      <th>2020-12-30 20:00:00+01:00</th>\n",
              "      <td>-40.32</td>\n",
              "      <td>0.02061</td>\n",
              "      <td>0.02061</td>\n",
              "      <td>0.00000</td>\n",
              "    </tr>\n",
              "    <tr>\n",
              "      <th>2020-12-30 21:00:00+01:00</th>\n",
              "      <td>-89.88</td>\n",
              "      <td>0.01997</td>\n",
              "      <td>0.01997</td>\n",
              "      <td>0.00000</td>\n",
              "    </tr>\n",
              "    <tr>\n",
              "      <th>2020-12-30 22:00:00+01:00</th>\n",
              "      <td>-108.77</td>\n",
              "      <td>0.02070</td>\n",
              "      <td>0.02070</td>\n",
              "      <td>0.00000</td>\n",
              "    </tr>\n",
              "    <tr>\n",
              "      <th>2020-12-30 23:00:00+01:00</th>\n",
              "      <td>-70.60</td>\n",
              "      <td>0.02094</td>\n",
              "      <td>0.02094</td>\n",
              "      <td>0.00000</td>\n",
              "    </tr>\n",
              "  </tbody>\n",
              "</table>\n",
              "<p>700 rows × 4 columns</p>\n",
              "</div>"
            ],
            "text/plain": [
              "                           Wind Delta__  SE1_spot  SE1_imbalance  Direction\n",
              "2020-12-01 01:00:00+01:00         57.45   0.01937        0.01500    0.00437\n",
              "2020-12-01 02:00:00+01:00         10.17   0.01836        0.01500    0.00336\n",
              "2020-12-01 03:00:00+01:00        -14.37   0.01834        0.01500    0.00334\n",
              "2020-12-01 04:00:00+01:00         19.52   0.01816        0.01012    0.00804\n",
              "2020-12-01 05:00:00+01:00         49.48   0.01866        0.00950    0.00916\n",
              "...                                 ...       ...            ...        ...\n",
              "2020-12-30 19:00:00+01:00        -26.40   0.02036        0.02036    0.00000\n",
              "2020-12-30 20:00:00+01:00        -40.32   0.02061        0.02061    0.00000\n",
              "2020-12-30 21:00:00+01:00        -89.88   0.01997        0.01997    0.00000\n",
              "2020-12-30 22:00:00+01:00       -108.77   0.02070        0.02070    0.00000\n",
              "2020-12-30 23:00:00+01:00        -70.60   0.02094        0.02094    0.00000\n",
              "\n",
              "[700 rows x 4 columns]"
            ]
          },
          "metadata": {
            "tags": []
          },
          "execution_count": 42
        }
      ]
    },
    {
      "cell_type": "code",
      "metadata": {
        "id": "3X51vJcgIJGg"
      },
      "source": [
        "df_plot.drop(['SE1_spot', 'SE1_imbalance'], axis=1, inplace=True)"
      ],
      "execution_count": 44,
      "outputs": []
    },
    {
      "cell_type": "code",
      "metadata": {
        "id": "7tm9-PfpIedO"
      },
      "source": [
        "df_plot.index.name=\"Date\""
      ],
      "execution_count": 45,
      "outputs": []
    },
    {
      "cell_type": "code",
      "metadata": {
        "colab": {
          "base_uri": "https://localhost:8080/",
          "height": 447
        },
        "id": "17FcOysoJXlh",
        "outputId": "0c8069ba-b0a0-4331-f32e-318a2d2dcc40"
      },
      "source": [
        "df_plot"
      ],
      "execution_count": 46,
      "outputs": [
        {
          "output_type": "execute_result",
          "data": {
            "text/html": [
              "<div>\n",
              "<style scoped>\n",
              "    .dataframe tbody tr th:only-of-type {\n",
              "        vertical-align: middle;\n",
              "    }\n",
              "\n",
              "    .dataframe tbody tr th {\n",
              "        vertical-align: top;\n",
              "    }\n",
              "\n",
              "    .dataframe thead th {\n",
              "        text-align: right;\n",
              "    }\n",
              "</style>\n",
              "<table border=\"1\" class=\"dataframe\">\n",
              "  <thead>\n",
              "    <tr style=\"text-align: right;\">\n",
              "      <th></th>\n",
              "      <th>Wind Delta__</th>\n",
              "      <th>Direction</th>\n",
              "    </tr>\n",
              "    <tr>\n",
              "      <th>Date</th>\n",
              "      <th></th>\n",
              "      <th></th>\n",
              "    </tr>\n",
              "  </thead>\n",
              "  <tbody>\n",
              "    <tr>\n",
              "      <th>2020-12-01 01:00:00+01:00</th>\n",
              "      <td>57.45</td>\n",
              "      <td>0.00437</td>\n",
              "    </tr>\n",
              "    <tr>\n",
              "      <th>2020-12-01 02:00:00+01:00</th>\n",
              "      <td>10.17</td>\n",
              "      <td>0.00336</td>\n",
              "    </tr>\n",
              "    <tr>\n",
              "      <th>2020-12-01 03:00:00+01:00</th>\n",
              "      <td>-14.37</td>\n",
              "      <td>0.00334</td>\n",
              "    </tr>\n",
              "    <tr>\n",
              "      <th>2020-12-01 04:00:00+01:00</th>\n",
              "      <td>19.52</td>\n",
              "      <td>0.00804</td>\n",
              "    </tr>\n",
              "    <tr>\n",
              "      <th>2020-12-01 05:00:00+01:00</th>\n",
              "      <td>49.48</td>\n",
              "      <td>0.00916</td>\n",
              "    </tr>\n",
              "    <tr>\n",
              "      <th>...</th>\n",
              "      <td>...</td>\n",
              "      <td>...</td>\n",
              "    </tr>\n",
              "    <tr>\n",
              "      <th>2020-12-30 19:00:00+01:00</th>\n",
              "      <td>-26.40</td>\n",
              "      <td>0.00000</td>\n",
              "    </tr>\n",
              "    <tr>\n",
              "      <th>2020-12-30 20:00:00+01:00</th>\n",
              "      <td>-40.32</td>\n",
              "      <td>0.00000</td>\n",
              "    </tr>\n",
              "    <tr>\n",
              "      <th>2020-12-30 21:00:00+01:00</th>\n",
              "      <td>-89.88</td>\n",
              "      <td>0.00000</td>\n",
              "    </tr>\n",
              "    <tr>\n",
              "      <th>2020-12-30 22:00:00+01:00</th>\n",
              "      <td>-108.77</td>\n",
              "      <td>0.00000</td>\n",
              "    </tr>\n",
              "    <tr>\n",
              "      <th>2020-12-30 23:00:00+01:00</th>\n",
              "      <td>-70.60</td>\n",
              "      <td>0.00000</td>\n",
              "    </tr>\n",
              "  </tbody>\n",
              "</table>\n",
              "<p>700 rows × 2 columns</p>\n",
              "</div>"
            ],
            "text/plain": [
              "                           Wind Delta__  Direction\n",
              "Date                                              \n",
              "2020-12-01 01:00:00+01:00         57.45    0.00437\n",
              "2020-12-01 02:00:00+01:00         10.17    0.00336\n",
              "2020-12-01 03:00:00+01:00        -14.37    0.00334\n",
              "2020-12-01 04:00:00+01:00         19.52    0.00804\n",
              "2020-12-01 05:00:00+01:00         49.48    0.00916\n",
              "...                                 ...        ...\n",
              "2020-12-30 19:00:00+01:00        -26.40    0.00000\n",
              "2020-12-30 20:00:00+01:00        -40.32    0.00000\n",
              "2020-12-30 21:00:00+01:00        -89.88    0.00000\n",
              "2020-12-30 22:00:00+01:00       -108.77    0.00000\n",
              "2020-12-30 23:00:00+01:00        -70.60    0.00000\n",
              "\n",
              "[700 rows x 2 columns]"
            ]
          },
          "metadata": {
            "tags": []
          },
          "execution_count": 46
        }
      ]
    },
    {
      "cell_type": "code",
      "metadata": {
        "colab": {
          "base_uri": "https://localhost:8080/"
        },
        "id": "Q7y1OeNLJt7F",
        "outputId": "e5647f50-feae-4e0f-8255-a64d3231008a"
      },
      "source": [
        "df_plot.columns"
      ],
      "execution_count": 47,
      "outputs": [
        {
          "output_type": "execute_result",
          "data": {
            "text/plain": [
              "Index(['Wind Delta__', 'Direction'], dtype='object')"
            ]
          },
          "metadata": {
            "tags": []
          },
          "execution_count": 47
        }
      ]
    },
    {
      "cell_type": "code",
      "metadata": {
        "id": "gpnJmTQTJea5"
      },
      "source": [
        "df_plot['Direction'] = df_plot['Direction'].apply(lambda x: x*1000)"
      ],
      "execution_count": 48,
      "outputs": []
    },
    {
      "cell_type": "code",
      "metadata": {
        "colab": {
          "base_uri": "https://localhost:8080/",
          "height": 447
        },
        "id": "TyyO9En2Jy7W",
        "outputId": "8faf6aaa-f764-40a3-a52b-41e16c09d0a5"
      },
      "source": [
        "df_plot"
      ],
      "execution_count": 49,
      "outputs": [
        {
          "output_type": "execute_result",
          "data": {
            "text/html": [
              "<div>\n",
              "<style scoped>\n",
              "    .dataframe tbody tr th:only-of-type {\n",
              "        vertical-align: middle;\n",
              "    }\n",
              "\n",
              "    .dataframe tbody tr th {\n",
              "        vertical-align: top;\n",
              "    }\n",
              "\n",
              "    .dataframe thead th {\n",
              "        text-align: right;\n",
              "    }\n",
              "</style>\n",
              "<table border=\"1\" class=\"dataframe\">\n",
              "  <thead>\n",
              "    <tr style=\"text-align: right;\">\n",
              "      <th></th>\n",
              "      <th>Wind Delta__</th>\n",
              "      <th>Direction</th>\n",
              "    </tr>\n",
              "    <tr>\n",
              "      <th>Date</th>\n",
              "      <th></th>\n",
              "      <th></th>\n",
              "    </tr>\n",
              "  </thead>\n",
              "  <tbody>\n",
              "    <tr>\n",
              "      <th>2020-12-01 01:00:00+01:00</th>\n",
              "      <td>57.45</td>\n",
              "      <td>4.37</td>\n",
              "    </tr>\n",
              "    <tr>\n",
              "      <th>2020-12-01 02:00:00+01:00</th>\n",
              "      <td>10.17</td>\n",
              "      <td>3.36</td>\n",
              "    </tr>\n",
              "    <tr>\n",
              "      <th>2020-12-01 03:00:00+01:00</th>\n",
              "      <td>-14.37</td>\n",
              "      <td>3.34</td>\n",
              "    </tr>\n",
              "    <tr>\n",
              "      <th>2020-12-01 04:00:00+01:00</th>\n",
              "      <td>19.52</td>\n",
              "      <td>8.04</td>\n",
              "    </tr>\n",
              "    <tr>\n",
              "      <th>2020-12-01 05:00:00+01:00</th>\n",
              "      <td>49.48</td>\n",
              "      <td>9.16</td>\n",
              "    </tr>\n",
              "    <tr>\n",
              "      <th>...</th>\n",
              "      <td>...</td>\n",
              "      <td>...</td>\n",
              "    </tr>\n",
              "    <tr>\n",
              "      <th>2020-12-30 19:00:00+01:00</th>\n",
              "      <td>-26.40</td>\n",
              "      <td>0.00</td>\n",
              "    </tr>\n",
              "    <tr>\n",
              "      <th>2020-12-30 20:00:00+01:00</th>\n",
              "      <td>-40.32</td>\n",
              "      <td>0.00</td>\n",
              "    </tr>\n",
              "    <tr>\n",
              "      <th>2020-12-30 21:00:00+01:00</th>\n",
              "      <td>-89.88</td>\n",
              "      <td>0.00</td>\n",
              "    </tr>\n",
              "    <tr>\n",
              "      <th>2020-12-30 22:00:00+01:00</th>\n",
              "      <td>-108.77</td>\n",
              "      <td>0.00</td>\n",
              "    </tr>\n",
              "    <tr>\n",
              "      <th>2020-12-30 23:00:00+01:00</th>\n",
              "      <td>-70.60</td>\n",
              "      <td>0.00</td>\n",
              "    </tr>\n",
              "  </tbody>\n",
              "</table>\n",
              "<p>700 rows × 2 columns</p>\n",
              "</div>"
            ],
            "text/plain": [
              "                           Wind Delta__  Direction\n",
              "Date                                              \n",
              "2020-12-01 01:00:00+01:00         57.45       4.37\n",
              "2020-12-01 02:00:00+01:00         10.17       3.36\n",
              "2020-12-01 03:00:00+01:00        -14.37       3.34\n",
              "2020-12-01 04:00:00+01:00         19.52       8.04\n",
              "2020-12-01 05:00:00+01:00         49.48       9.16\n",
              "...                                 ...        ...\n",
              "2020-12-30 19:00:00+01:00        -26.40       0.00\n",
              "2020-12-30 20:00:00+01:00        -40.32       0.00\n",
              "2020-12-30 21:00:00+01:00        -89.88       0.00\n",
              "2020-12-30 22:00:00+01:00       -108.77       0.00\n",
              "2020-12-30 23:00:00+01:00        -70.60       0.00\n",
              "\n",
              "[700 rows x 2 columns]"
            ]
          },
          "metadata": {
            "tags": []
          },
          "execution_count": 49
        }
      ]
    },
    {
      "cell_type": "code",
      "metadata": {
        "colab": {
          "base_uri": "https://localhost:8080/"
        },
        "id": "F3sF06byJ8eK",
        "outputId": "f5abb099-ef7e-412f-9b34-76d319c3aa42"
      },
      "source": [
        "df_plot.columns"
      ],
      "execution_count": 50,
      "outputs": [
        {
          "output_type": "execute_result",
          "data": {
            "text/plain": [
              "Index(['Wind Delta__', 'Direction'], dtype='object')"
            ]
          },
          "metadata": {
            "tags": []
          },
          "execution_count": 50
        }
      ]
    },
    {
      "cell_type": "code",
      "metadata": {
        "colab": {
          "base_uri": "https://localhost:8080/"
        },
        "id": "AXKtaNQJKIZK",
        "outputId": "c4858d0c-a6b2-44bd-b40d-343ff271eea4"
      },
      "source": [
        "df_plot['Wind Delta__'].astype('float64')"
      ],
      "execution_count": 51,
      "outputs": [
        {
          "output_type": "execute_result",
          "data": {
            "text/plain": [
              "Date\n",
              "2020-12-01 01:00:00+01:00     57.45\n",
              "2020-12-01 02:00:00+01:00     10.17\n",
              "2020-12-01 03:00:00+01:00    -14.37\n",
              "2020-12-01 04:00:00+01:00     19.52\n",
              "2020-12-01 05:00:00+01:00     49.48\n",
              "                              ...  \n",
              "2020-12-30 19:00:00+01:00    -26.40\n",
              "2020-12-30 20:00:00+01:00    -40.32\n",
              "2020-12-30 21:00:00+01:00    -89.88\n",
              "2020-12-30 22:00:00+01:00   -108.77\n",
              "2020-12-30 23:00:00+01:00    -70.60\n",
              "Name: Wind Delta__, Length: 700, dtype: float64"
            ]
          },
          "metadata": {
            "tags": []
          },
          "execution_count": 51
        }
      ]
    },
    {
      "cell_type": "code",
      "metadata": {
        "colab": {
          "base_uri": "https://localhost:8080/"
        },
        "id": "ZrcBQDrMKQok",
        "outputId": "48383709-cbbc-49be-d411-05187146d876"
      },
      "source": [
        "df_plot['Direction'].astype('float64')"
      ],
      "execution_count": 52,
      "outputs": [
        {
          "output_type": "execute_result",
          "data": {
            "text/plain": [
              "Date\n",
              "2020-12-01 01:00:00+01:00    4.37\n",
              "2020-12-01 02:00:00+01:00    3.36\n",
              "2020-12-01 03:00:00+01:00    3.34\n",
              "2020-12-01 04:00:00+01:00    8.04\n",
              "2020-12-01 05:00:00+01:00    9.16\n",
              "                             ... \n",
              "2020-12-30 19:00:00+01:00    0.00\n",
              "2020-12-30 20:00:00+01:00    0.00\n",
              "2020-12-30 21:00:00+01:00    0.00\n",
              "2020-12-30 22:00:00+01:00    0.00\n",
              "2020-12-30 23:00:00+01:00    0.00\n",
              "Name: Direction, Length: 700, dtype: float64"
            ]
          },
          "metadata": {
            "tags": []
          },
          "execution_count": 52
        }
      ]
    },
    {
      "cell_type": "code",
      "metadata": {
        "id": "3ct8nMKgKWJm"
      },
      "source": [
        "blue = sns.color_palette(\"muted\", desat=0.9)[0]\n",
        "green = sns.color_palette(\"muted\", desat=0.9)[2]\n",
        "red = sns.color_palette(\"muted\", desat=0.9)[3]\n",
        "grey = sns.color_palette(\"muted\", desat=0.9)[7]"
      ],
      "execution_count": 53,
      "outputs": []
    },
    {
      "cell_type": "code",
      "metadata": {
        "colab": {
          "base_uri": "https://localhost:8080/",
          "height": 442
        },
        "id": "KRDqbObeKbiJ",
        "outputId": "16a5da33-5d79-4c58-e871-4768f6b97c5d"
      },
      "source": [
        "fig, ax1 = plt.subplots(figsize=[20,7])\n",
        "\n",
        "x = df_plot.index\n",
        "plt.xlabel(\"Timestamp\")\n",
        "plt.ylabel(\"Wind Delta\", fontsize=12, color=red);\n",
        "y1 = df_plot['Wind Delta__']\n",
        "y2 = df_plot['Direction']\n",
        "\n",
        "ax2 = ax1.twinx()\n",
        "\n",
        "ax1.plot(x, y1, alpha=0.6, lw=4, color=red)\n",
        "plt.ylabel(\"Direction of Market\", fontsize=12, color=blue);\n",
        "ax2.plot(x, y2, alpha=0.6, lw=4, color=blue)\n",
        "ax1.invert_yaxis()\n",
        "ax2.invert_yaxis()\n",
        "#plt.autoscale();"
      ],
      "execution_count": 54,
      "outputs": [
        {
          "output_type": "display_data",
          "data": {
            "image/png": "[encoded data removed]",
            "text/plain": [
              "<Figure size 1440x504 with 2 Axes>"
            ]
          },
          "metadata": {
            "tags": [],
            "needs_background": "light"
          }
        }
      ]
    }
  ]
}