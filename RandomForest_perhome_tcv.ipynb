{
  "nbformat": 4,
  "nbformat_minor": 0,
  "metadata": {
    "colab": {
      "name": "RandomForest_perhome_tcv.ipynb",
      "provenance": [],
      "include_colab_link": true
    },
    "kernelspec": {
      "name": "python3",
      "display_name": "Python 3"
    }
  },
  "cells": [
    {
      "cell_type": "markdown",
      "metadata": {
        "id": "view-in-github",
        "colab_type": "text"
      },
      "source": [
        "<a href=\"https://colab.research.google.com/github/thesimaranjaira/AspectExtraction_SentimentAnalysis/blob/main/RandomForest_perhome_tcv.ipynb\" target=\"_parent\"><img src=\"https://colab.research.google.com/assets/colab-badge.svg\" alt=\"Open In Colab\"/></a>"
      ]
    },
    {
      "cell_type": "code",
      "metadata": {
        "id": "ckKO66e30hXG"
      },
      "source": [
        "import pandas as pd\r\n",
        "import numpy as np\r\n",
        "import seaborn as sns\r\n",
        "import matplotlib as mplt\r\n",
        "import matplotlib.pyplot as plt\r\n",
        "import matplotlib.gridspec as gridspec\r\n",
        "%matplotlib inline\r\n",
        "from sklearn.linear_model import LinearRegression\r\n",
        "from sklearn.model_selection import TimeSeriesSplit\r\n",
        "from sklearn.model_selection import train_test_split\r\n",
        "from sklearn.model_selection import KFold \r\n",
        "from sklearn.model_selection import cross_val_predict\r\n",
        "from sklearn.model_selection import cross_val_score\r\n",
        "import statsmodels.api as sm\r\n",
        "from termcolor import colored as cl\r\n",
        "from sklearn.model_selection import TimeSeriesSplit\r\n",
        "from sklearn.ensemble import RandomForestRegressor"
      ],
      "execution_count": 22,
      "outputs": []
    },
    {
      "cell_type": "code",
      "metadata": {
        "colab": {
          "base_uri": "https://localhost:8080/"
        },
        "id": "j4ypZkQR2xa_",
        "outputId": "f3673904-cdb5-451c-981b-befbdf56cb46"
      },
      "source": [
        "from google.colab import drive\r\n",
        "drive.mount('/content/drive')"
      ],
      "execution_count": 3,
      "outputs": [
        {
          "output_type": "stream",
          "text": [
            "Mounted at /content/drive\n"
          ],
          "name": "stdout"
        }
      ]
    },
    {
      "cell_type": "code",
      "metadata": {
        "colab": {
          "base_uri": "https://localhost:8080/"
        },
        "id": "3Er1X3es1Lxm",
        "outputId": "7dcd558b-57fc-4093-cc8a-70b468d21dd8"
      },
      "source": [
        "df = pd.read_csv('/content/drive/My Drive/dataset/data_no1.csv')\r\n",
        "#df = df.drop(['time', 'tempk', 'forecasttime'], axis=1)\r\n",
        "print(df.head(10))\r\n",
        "print(df.describe(include='all'))\r\n"
      ],
      "execution_count": 4,
      "outputs": [
        {
          "output_type": "stream",
          "text": [
            "             timestamp  consumption  ...  forecasttotalpulse  homesforecastedpulse\n",
            "0  2018-08-13 01:00:00     1.167373  ...                 NaN                   NaN\n",
            "1  2018-08-13 02:00:00     1.171019  ...                 NaN                   NaN\n",
            "2  2018-08-13 03:00:00     1.102508  ...                 NaN                   NaN\n",
            "3  2018-08-13 04:00:00     1.281203  ...                 NaN                   NaN\n",
            "4  2018-08-13 05:00:00     1.562144  ...                 NaN                   NaN\n",
            "5  2018-08-13 06:00:00     1.401059  ...                 NaN                   NaN\n",
            "6  2018-08-13 07:00:00     1.229084  ...                 NaN                   NaN\n",
            "7  2018-08-13 08:00:00     1.124097  ...                 NaN                   NaN\n",
            "8  2018-08-13 09:00:00     1.095233  ...                 NaN                   NaN\n",
            "9  2018-08-13 10:00:00     1.076520  ...                 NaN                   NaN\n",
            "\n",
            "[10 rows x 22 columns]\n",
            "                  timestamp  ...  homesforecastedpulse\n",
            "count                 21598  ...          16798.000000\n",
            "unique                21598  ...                   NaN\n",
            "top     2019-03-22 15:00:00  ...                   NaN\n",
            "freq                      1  ...                   NaN\n",
            "mean                    NaN  ...           4665.784260\n",
            "std                     NaN  ...           2256.827103\n",
            "min                     NaN  ...           1447.000000\n",
            "25%                     NaN  ...           2564.000000\n",
            "50%                     NaN  ...           4321.000000\n",
            "75%                     NaN  ...           6626.000000\n",
            "max                     NaN  ...           8921.000000\n",
            "\n",
            "[11 rows x 22 columns]\n"
          ],
          "name": "stdout"
        }
      ]
    },
    {
      "cell_type": "code",
      "metadata": {
        "id": "Kp291AI9a2KQ"
      },
      "source": [
        "ActualLoad_total = (pd.read_csv(\"/content/drive/My Drive/dataset/data_no1.csv\", index_col=[\"timestamp\"], parse_dates=True).iloc[:, 2]).rename(\"load\")\r\n",
        "ForecastedLoad_home= (pd.read_csv(\"/content/drive/My Drive/dataset/data_no1.csv\", index_col=[\"timestamp\"], parse_dates=True).iloc[:, 10]).rename(\"forecasted_GLM\")\r\n",
        "tempC = (pd.read_csv(\"/content/drive/My Drive/dataset/data_no1.csv\", index_col=[\"timestamp\"], parse_dates=True).iloc[:, 4])\r\n",
        "perHome= (pd.read_csv(\"/content/drive/My Drive/dataset/data_no1.csv\", index_col=[\"timestamp\"], parse_dates=True).iloc[:, 0]).rename(\"consumption_perHome\")\r\n"
      ],
      "execution_count": 5,
      "outputs": []
    },
    {
      "cell_type": "code",
      "metadata": {
        "colab": {
          "base_uri": "https://localhost:8080/"
        },
        "id": "0LPPll9Qa9Nx",
        "outputId": "ec2a7c37-2be4-4ec4-87e7-ac3a3ae160ff"
      },
      "source": [
        "print(ActualLoad_total, ForecastedLoad_home, tempC, perHome)"
      ],
      "execution_count": 6,
      "outputs": [
        {
          "output_type": "stream",
          "text": [
            "timestamp\n",
            "2018-08-13 01:00:00      3190.430\n",
            "2018-08-13 02:00:00      3200.395\n",
            "2018-08-13 03:00:00      3013.154\n",
            "2018-08-13 04:00:00      3501.527\n",
            "2018-08-13 05:00:00      4269.340\n",
            "                          ...    \n",
            "2021-01-28 18:00:00    180122.345\n",
            "2021-01-28 19:00:00    180508.608\n",
            "2021-01-28 20:00:00    177324.554\n",
            "2021-01-28 21:00:00    171417.187\n",
            "2021-01-28 22:00:00    163884.793\n",
            "Name: load, Length: 21598, dtype: float64 timestamp\n",
            "2018-08-13 01:00:00    1.281439\n",
            "2018-08-13 02:00:00    1.273370\n",
            "2018-08-13 03:00:00    1.247555\n",
            "2018-08-13 04:00:00    1.311142\n",
            "2018-08-13 05:00:00    1.426472\n",
            "                         ...   \n",
            "2021-01-28 18:00:00    4.443659\n",
            "2021-01-28 19:00:00    4.397501\n",
            "2021-01-28 20:00:00    4.306531\n",
            "2021-01-28 21:00:00    4.154426\n",
            "2021-01-28 22:00:00    3.940354\n",
            "Name: forecasted_GLM, Length: 21598, dtype: float64 timestamp\n",
            "2018-08-13 01:00:00     7.182149\n",
            "2018-08-13 02:00:00     6.393077\n",
            "2018-08-13 03:00:00     6.117321\n",
            "2018-08-13 04:00:00     6.660875\n",
            "2018-08-13 05:00:00     7.375146\n",
            "                         ...    \n",
            "2021-01-28 18:00:00   -12.299257\n",
            "2021-01-28 19:00:00   -12.829455\n",
            "2021-01-28 20:00:00   -13.311386\n",
            "2021-01-28 21:00:00   -13.633911\n",
            "2021-01-28 22:00:00   -13.940842\n",
            "Name: temp, Length: 21598, dtype: float64 timestamp\n",
            "2018-08-13 01:00:00    1.167373\n",
            "2018-08-13 02:00:00    1.171019\n",
            "2018-08-13 03:00:00    1.102508\n",
            "2018-08-13 04:00:00    1.281203\n",
            "2018-08-13 05:00:00    1.562144\n",
            "                         ...   \n",
            "2021-01-28 18:00:00    4.518195\n",
            "2021-01-28 19:00:00    4.527884\n",
            "2021-01-28 20:00:00    4.448015\n",
            "2021-01-28 21:00:00    4.299834\n",
            "2021-01-28 22:00:00    4.110891\n",
            "Name: consumption_perHome, Length: 21598, dtype: float64\n"
          ],
          "name": "stdout"
        }
      ]
    },
    {
      "cell_type": "code",
      "metadata": {
        "id": "t7rD_2fJHt3H"
      },
      "source": [
        "def getSeason(perHome):\r\n",
        "  season=pd.Series()\r\n",
        "  \r\n",
        "  for year in perHome.index.year.unique():\r\n",
        "\r\n",
        "    yearlySeason = pd.Series(\"inter-season\", index=perHome.loc[str(year)].index)\r\n",
        "\r\n",
        "    yearlySeason.loc[: \"{}-2-27\".format(year)] =\"winter\"\r\n",
        "    yearlySeason.loc[\"{}-11-1\".format(year):] = \"winter\"\r\n",
        "    yearlySeason.loc[\"{}-5-1\".format(year): \"{}-9-30\".format(year)]= \"summer\"\r\n",
        "\r\n",
        "    season=pd.concat([season, yearlySeason])\r\n",
        "  return season"
      ],
      "execution_count": 7,
      "outputs": []
    },
    {
      "cell_type": "code",
      "metadata": {
        "colab": {
          "base_uri": "https://localhost:8080/"
        },
        "id": "5_1UkXFqHl10",
        "outputId": "466ef242-41e5-4373-b5ea-870f8db2d399"
      },
      "source": [
        "season= getSeason(perHome).rename(\"season\")\r\n",
        "print(season)"
      ],
      "execution_count": 8,
      "outputs": [
        {
          "output_type": "stream",
          "text": [
            "2018-08-13 01:00:00    summer\n",
            "2018-08-13 02:00:00    summer\n",
            "2018-08-13 03:00:00    summer\n",
            "2018-08-13 04:00:00    summer\n",
            "2018-08-13 05:00:00    summer\n",
            "                        ...  \n",
            "2021-01-28 18:00:00    winter\n",
            "2021-01-28 19:00:00    winter\n",
            "2021-01-28 20:00:00    winter\n",
            "2021-01-28 21:00:00    winter\n",
            "2021-01-28 22:00:00    winter\n",
            "Name: season, Length: 21598, dtype: object\n"
          ],
          "name": "stdout"
        },
        {
          "output_type": "stream",
          "text": [
            "/usr/local/lib/python3.6/dist-packages/ipykernel_launcher.py:2: DeprecationWarning: The default dtype for empty Series will be 'object' instead of 'float64' in a future version. Specify a dtype explicitly to silence this warning.\n",
            "  \n"
          ],
          "name": "stderr"
        }
      ]
    },
    {
      "cell_type": "code",
      "metadata": {
        "id": "2JCv3dtJNGhk"
      },
      "source": [
        "def plot_daily(perHome, seasonStr):\r\n",
        "  xaxis= pd.date_range(\"2018-8-13\", periods=24, freq=\"1h\").strftime(\"%H:%M\")\r\n",
        "  fontsize = 15\r\n",
        "  df= perHome[season==seasonStr].to_frame()\r\n",
        "  df= df.assign(day_name = df.index.day_name(), hour= df.index.strftime(\"%H:%M\"))\r\n",
        "\r\n",
        "  weekdayName= [\"Monday\", \"Tuesday\", \"Wednesday\", \"Thursday\", \"Friday\", \"Saturday\", \"Sunday\"]\r\n",
        "\r\n",
        "  (df.pivot_table(\"consumption_perHome\", index=\"day_name\", columns= \"hour\")\r\n",
        "    .T\r\n",
        "    .loc[: , weekdayName]\r\n",
        "    .plot(figsize=[8,5],\r\n",
        "          lw=3));\r\n",
        "\r\n",
        "  plt.xticks(np.arange(0, len(xaxis), 2), xaxis[::2]);\r\n",
        "  plt.xlabel(\"Hour\", fontsize=fontsize)\r\n",
        "  plt.ylabel(\"Load\", fontsize=fontsize);\r\n",
        "  plt.grid()\r\n",
        "  plt.title(\"Mean Daily Profile- {}\".format(seasonStr), fontsize=fontsize+5);\r\n",
        "  plt.ylim(10,23)\r\n",
        "  plt.autoscale()"
      ],
      "execution_count": 9,
      "outputs": []
    },
    {
      "cell_type": "code",
      "metadata": {
        "id": "65a-_4i93Iua"
      },
      "source": [
        "def plot_season(x,y, xlabel, ylabel, title, freq, s=30):\r\n",
        "  df= pd.concat([x,y],axis=1)\r\n",
        "\r\n",
        "  seasons=[\"winter\", \"inter-season\", \"summer\"]\r\n",
        "  colors= {\"winter\":blue, \"inter-season\":grey, \"summer\":red}\r\n",
        "\r\n",
        "  fig= plt.figure(figsize=[17,5])\r\n",
        "  size=12\r\n",
        "  alpha=0.5\r\n",
        "\r\n",
        "  for i,seasonStr in enumerate(seasons):\r\n",
        "\r\n",
        "    fig.add_subplot(1, 3, i+1)\r\n",
        "    df[season==seasonStr].resample(freq).mean().plot.scatter(ax=plt.gca(), \r\n",
        "                                                              x= x.name, y=y.name, s=s, alpha=alpha, color=colors[seasonStr]);\r\n",
        "\r\n",
        "    plt.grid()\r\n",
        "    plt.xlabel(xlabel, size=size)\r\n",
        "    plt.ylabel(ylabel, size=size)\r\n",
        "    plt.title(\"{} - {}\".format(seasonStr.capitalize(),title), size=size);\r\n",
        "    plt.xticks(size=size, rotation=45), plt.yticks(size=size);\r\n",
        "    plt.autoscale()\r\n",
        "  plt.tight_layout()"
      ],
      "execution_count": 10,
      "outputs": []
    },
    {
      "cell_type": "code",
      "metadata": {
        "id": "D2Zfno_dR5n2"
      },
      "source": [
        "def get_interactions(s, dummies, poly_degree=1):\r\n",
        "    if s.name == None: s.name = \"_\"\r\n",
        "    s1 = dummies.apply(lambda x: x * s).rename(\"{}\".format(s.name + \"_{}\").format, axis=1)\r\n",
        "    s2 = (dummies.apply(lambda x: x * s) **2).rename(\"{}\".format(s.name + \"2_{}\").format, axis=1)\r\n",
        "    s3 = (dummies.apply(lambda x: x * s) **3).rename(\"{}\".format(s.name + \"3_{}\").format, axis=1)\r\n",
        "    \r\n",
        "    if poly_degree == 1: s2, s3 = None, None\r\n",
        "    if poly_degree == 2: s3 = None\r\n",
        "\r\n",
        "    df = pd.concat([s1, s2, s3], axis=1)\r\n",
        "    return df\r\n"
      ],
      "execution_count": 11,
      "outputs": []
    },
    {
      "cell_type": "code",
      "metadata": {
        "id": "1AYmXL5VfNi6"
      },
      "source": [
        "def get_season(ts_in):\r\n",
        "    season = pd.Series()\r\n",
        "\r\n",
        "    for year in ts_in.index.year.unique():\r\n",
        "\r\n",
        "        # CREATE SEASONS\r\n",
        "        yearly_season = pd.Series(\"inter-season\", index=ts_in.loc[str(year)].index)\r\n",
        "\r\n",
        "        yearly_season.loc[: \"{}-2-15\".format(year)] = \"winter\"\r\n",
        "        yearly_season.loc[\"{}-11-15\".format(year) :] = \"winter\"\r\n",
        "        yearly_season.loc[\"{}-5-15\".format(year) : \"{}-9-15\".format(year)] = \"summer\"\r\n",
        "\r\n",
        "        season = pd.concat([season, yearly_season])\r\n",
        "    return season\r\n"
      ],
      "execution_count": 12,
      "outputs": []
    },
    {
      "cell_type": "code",
      "metadata": {
        "id": "_9_JTht_dbbe"
      },
      "source": [
        "y_home= perHome.rename(\"y_home\").copy()"
      ],
      "execution_count": 13,
      "outputs": []
    },
    {
      "cell_type": "code",
      "metadata": {
        "colab": {
          "base_uri": "https://localhost:8080/"
        },
        "id": "s2jajbMge7i2",
        "outputId": "9071b86c-9444-4061-ec36-8d7776310455"
      },
      "source": [
        "season = get_season(y_home).rename(\"season\")\r\n",
        "month = pd.Series(y_home.index.month.astype(str), index=y_home.index, name=\"month\").apply(lambda x: \"m{}\".format(x))\r\n",
        "day = pd.Series(y_home.index.dayofweek.astype(str), index=y_home.index, name=\"day\").apply(lambda x: \"d{}\".format(x))\r\n",
        "hour = pd.Series(y_home.index.strftime(\"%H:%M\"), index=y_home.index, name=\"hour\")\r\n",
        "dayhour = (day + \"_\" + hour).rename(\"dayhour\")\r\n",
        "\r\n",
        "month_dummies = pd.get_dummies(month.sort_values()).sort_index()\r\n",
        "day_dummies = pd.get_dummies(day.sort_values()).sort_index()\r\n",
        "hour_dummies = pd.get_dummies(hour.sort_values()).sort_index()\r\n",
        "dayhour_dummies = pd.get_dummies(dayhour.sort_values()).sort_index()\r\n",
        "\r\n",
        "trend = pd.Series(np.arange(1, len(y_home) + 1), y_home.index, name=\"trend\")"
      ],
      "execution_count": 14,
      "outputs": [
        {
          "output_type": "stream",
          "text": [
            "/usr/local/lib/python3.6/dist-packages/ipykernel_launcher.py:2: DeprecationWarning: The default dtype for empty Series will be 'object' instead of 'float64' in a future version. Specify a dtype explicitly to silence this warning.\n",
            "  \n"
          ],
          "name": "stderr"
        }
      ]
    },
    {
      "cell_type": "code",
      "metadata": {
        "id": "5EYz7ItekoEH"
      },
      "source": [
        "def percentage_error(actual, predicted):\r\n",
        "    res = np.empty(actual.shape)\r\n",
        "    for j in range(actual.shape[0]):\r\n",
        "        if actual[j] != 0:\r\n",
        "            res[j] = (actual[j] - predicted[j]) / actual[j]\r\n",
        "        else:\r\n",
        "            res[j] = predicted[j] / np.mean(actual)\r\n",
        "    return res\r\n",
        "\r\n",
        "def mean_absolute_percentage_error(y_true, y_pred): \r\n",
        "    return np.mean(np.abs(percentage_error(np.asarray(y_true), np.asarray(y_pred)))) * 100"
      ],
      "execution_count": 15,
      "outputs": []
    },
    {
      "cell_type": "markdown",
      "metadata": {
        "id": "rEE8t9HEAP3B"
      },
      "source": [
        "**Features: Hour of the Day**\r\n",
        "\r\n",
        "Without dropping intercept and dummy variables."
      ]
    },
    {
      "cell_type": "code",
      "metadata": {
        "colab": {
          "base_uri": "https://localhost:8080/"
        },
        "id": "bL2TOnHJd9mT",
        "outputId": "bd9b7111-a02f-4067-98ec-6b65e775b56b"
      },
      "source": [
        "X = hour_dummies.values\r\n",
        "y = y_home\r\n",
        "X_train = X[:int(X.shape[0]*0.8)]\r\n",
        "X_test = X[int(X.shape[0]*0.8):]\r\n",
        "y_train = y[:int(X.shape[0]*0.8)]\r\n",
        "y_test = y[int(X.shape[0]*0.8):]\r\n",
        "tscv = TimeSeriesSplit(n_splits=10)\r\n",
        "i = 1\r\n",
        "score = []\r\n",
        "for tr_index, val_index in tscv.split(X_train):\r\n",
        "    X_tr, X_val = X_train[tr_index], X_train[val_index]\r\n",
        "    y_tr, y_val = y_train[tr_index], y_train[val_index]\r\n",
        "    # for mf in np.linspace(100, 150, 6):\r\n",
        "    #     for ne in np.linspace(50, 100, 6):\r\n",
        "    #         for md in np.linspace(20, 40, 5):\r\n",
        "    #             for msl in np.linspace(30, 100, 8):\r\n",
        "    #                 rfr = RandomForestRegressor(\r\n",
        "    #                     max_features= int(mf),\r\n",
        "    #                     n_estimators=int(ne),\r\n",
        "    #                     max_depth=int(md),\r\n",
        "    #                     min_samples_leaf=int(msl))\r\n",
        "    rfr = RandomForestRegressor()\r\n",
        "    rfr.fit(X_tr, y_tr)\r\n",
        "    #                 score.append([i, mf, ne, md, msl,rfr.score(X_val, y_val)])\r\n",
        "    score.append([i, rfr.score(X_val, y_val)])\r\n",
        "    i += 1\r\n",
        "yhat=pd.Series(rfr.predict(X_test))\r\n",
        "MAPE= mean_absolute_percentage_error(y_test,yhat)\r\n",
        "print(MAPE)\r\n",
        "print(score)\r\n",
        "y_pred_hour=yhat.copy()"
      ],
      "execution_count": 78,
      "outputs": [
        {
          "output_type": "stream",
          "text": [
            "38.36876202810531\n",
            "[[1, -4.121354348377801], [2, -5.4510033283489765], [3, -0.03152669137266462], [4, -7.719248352291123], [5, -16.53491638244411], [6, 0.14784535041634161], [7, -3.4710240936771206], [8, -1.4565095809794193], [9, -0.23066468883052882], [10, -20.857080318981097]]\n"
          ],
          "name": "stdout"
        }
      ]
    },
    {
      "cell_type": "code",
      "metadata": {
        "colab": {
          "base_uri": "https://localhost:8080/"
        },
        "id": "bItrkSIHOc_e",
        "outputId": "7eb2722b-5e39-451e-ff00-c1086cdb93d4"
      },
      "source": [
        "#timeseries cross validation\r\n",
        "X = hour_dummies.values\r\n",
        "y = y_                                1q2home\r\n",
        "#y = y_home.values.reshape(-1, 1)\r\n",
        "X_train = X[:int(X.shape[0]*0.8)]\r\n",
        "X_test = X[int(X.shape[0]*0.8):]\r\n",
        "y_train = y[:int(X.shape[0]*0.8)]\r\n",
        "y_test = y[int(X.shape[0]*0.8):]\r\n",
        "tscv = TimeSeriesSplit(n_splits=10)\r\n",
        "i = 1\r\n",
        "score = []\r\n",
        "for tr_index, val_index in tscv.split(X_train):\r\n",
        "    X_tr, X_val = X_train[tr_index], X_train[val_index]\r\n",
        "    y_tr, y_val = y_train[tr_index], y_train[val_index]\r\n",
        "    rfr = RandomForestRegressor()\r\n",
        "    rfr.fit(X_tr, y_tr)\r\n",
        "    score.append([i, rfr.score(X_val, y_val)])\r\n",
        "    i += 1\r\n",
        "yhat=pd.Series(rfr.predict(X_test))\r\n",
        "MAPE= mean_absolute_percentage_error(y_test,yhat)\r\n",
        "print(MAPE)\r\n",
        "print(score)\r\n",
        "y_pred_hour=yhat.copy()"
      ],
      "execution_count": 79,
      "outputs": [
        {
          "output_type": "stream",
          "text": [
            "38.36978774615606\n",
            "[[1, -4.110702643768136], [2, -5.455574700523615], [3, -0.031221694457535643], [4, -7.7124785923837], [5, -16.549737611711343], [6, 0.14870474522408317], [7, -3.4846683993059044], [8, -1.45050536319068], [9, -0.2332487695316856], [10, -20.879935518315264]]\n"
          ],
          "name": "stdout"
        }
      ]
    },
    {
      "cell_type": "code",
      "metadata": {
        "colab": {
          "base_uri": "https://localhost:8080/"
        },
        "id": "6R-3YL2LUDZj",
        "outputId": "a1eb9c06-b825-4ab9-de34-cf75f5013460"
      },
      "source": [
        "#timeseries cross validation\r\n",
        "X = hour_dummies.values\r\n",
        "y = y_home\r\n",
        "#y = y_home.values.reshape(-1, 1)\r\n",
        "X_train = X[:int(X.shape[0]*0.8)]\r\n",
        "X_test = X[int(X.shape[0]*0.8):]\r\n",
        "y_train = y[:int(X.shape[0]*0.8)]\r\n",
        "y_test = y[int(X.shape[0]*0.8):]\r\n",
        "tscv = TimeSeriesSplit(n_splits=10)\r\n",
        "i = 1\r\n",
        "score = []\r\n",
        "for tr_index, val_index in tscv.split(X_train):\r\n",
        "    X_tr, X_val = X_train[tr_index], X_train[val_index]\r\n",
        "    y_tr, y_val = y_train[tr_index], y_train[val_index]\r\n",
        "    rfr = LinearRegression()\r\n",
        "    rfr.fit(X_tr, y_tr)\r\n",
        "    score.append([i, rfr.score(X_val, y_val)])\r\n",
        "    i += 1\r\n",
        "yhat=pd.Series(rfr.predict(X_test))\r\n",
        "MAPE= mean_absolute_percentage_error(y_test,yhat)\r\n",
        "print(MAPE)\r\n",
        "print(score)\r\n",
        "y_pred_hour=yhat.copy()\r\n"
      ],
      "execution_count": 75,
      "outputs": [
        {
          "output_type": "stream",
          "text": [
            "38.365871996325055\n",
            "[[1, -4.1118143657542605], [2, -5.453728207489228], [3, -0.03224134384301225], [4, -7.720702897477768], [5, -16.505817891302215], [6, 0.14817656824866365], [7, -3.4734146642788004], [8, -1.4554422772135465], [9, -0.23660754453573293], [10, -20.86245766459601]]\n"
          ],
          "name": "stdout"
        }
      ]
    },
    {
      "cell_type": "markdown",
      "metadata": {
        "id": "QDMXDmRnBfU3"
      },
      "source": [
        "**Features: Month + Day of the Week + Hour of the Day**\r\n",
        "\r\n",
        "Dropping one dummy to avoid colinearity"
      ]
    },
    {
      "cell_type": "code",
      "metadata": {
        "colab": {
          "base_uri": "https://localhost:8080/"
        },
        "id": "FEpoAB_XKwFf",
        "outputId": "3414316f-502d-4fbf-a33f-567fd9a6dff3"
      },
      "source": [
        "#time series cross val\r\n",
        "Xhat = pd.concat([month_dummies.iloc[:, :-1],  \r\n",
        "               day_dummies.iloc[:, :-1],   \r\n",
        "               hour_dummies.iloc[:, :-1]    \r\n",
        "              ], axis=1)\r\n",
        "X = Xhat.values\r\n",
        "y = y_home\r\n",
        "#y = y_home.values.reshape(-1, 1)\r\n",
        "X_train = X[:int(X.shape[0]*0.8)]\r\n",
        "X_test = X[int(X.shape[0]*0.8):]\r\n",
        "y_train = y[:int(X.shape[0]*0.8)]\r\n",
        "y_test = y[int(X.shape[0]*0.8):]\r\n",
        "tscv = TimeSeriesSplit(n_splits=10)\r\n",
        "i = 1\r\n",
        "score = []\r\n",
        "for tr_index, val_index in tscv.split(X_train):\r\n",
        "    X_tr, X_val = X_train[tr_index], X_train[val_index]\r\n",
        "    y_tr, y_val = y_train[tr_index], y_train[val_index]\r\n",
        "    rfr = RandomForestRegressor()\r\n",
        "    rfr.fit(X_tr, y_tr)\r\n",
        "    score.append([i, rfr.score(X_val, y_val)])\r\n",
        "    i += 1\r\n",
        "yhat=pd.Series(rfr.predict(X_test))\r\n",
        "MAPE= mean_absolute_percentage_error(y_test,yhat)\r\n",
        "print(MAPE)\r\n",
        "print(score)\r\n",
        "y_pred_mdh = yhat.copy() "
      ],
      "execution_count": 68,
      "outputs": [
        {
          "output_type": "stream",
          "text": [
            "13.908409504873035\n",
            "[[1, -3.946665740056206], [2, -12.173281357880631], [3, -1.6065438684144477], [4, 0.20165945745594027], [5, 0.5460393460471826], [6, 0.8057567658887066], [7, -0.4136040244508119], [8, 0.07746731727964984], [9, 0.32607666652364886], [10, 0.16150601995149758]]\n"
          ],
          "name": "stdout"
        }
      ]
    },
    {
      "cell_type": "code",
      "metadata": {
        "colab": {
          "base_uri": "https://localhost:8080/"
        },
        "id": "JjImv4AguI0o",
        "outputId": "e522e061-4f49-4cc3-85f1-42d7af266cc4"
      },
      "source": [
        "#time series cross val\r\n",
        "Xhat = pd.concat([month_dummies.iloc[:, :-1],  \r\n",
        "               day_dummies.iloc[:, :-1],   \r\n",
        "               hour_dummies.iloc[:, :-1]    \r\n",
        "              ], axis=1)\r\n",
        "X = Xhat.values\r\n",
        "y = y_home\r\n",
        "#y = y_home.values.reshape(-1, 1)\r\n",
        "X_train = X[:int(X.shape[0]*0.8)]\r\n",
        "X_test = X[int(X.shape[0]*0.8):]\r\n",
        "y_train = y[:int(X.shape[0]*0.8)]\r\n",
        "y_test = y[int(X.shape[0]*0.8):]\r\n",
        "tscv = TimeSeriesSplit(n_splits=10)\r\n",
        "i = 1\r\n",
        "score = []\r\n",
        "for tr_index, val_index in tscv.split(X_train):\r\n",
        "    X_tr, X_val = X_train[tr_index], X_train[val_index]\r\n",
        "    y_tr, y_val = y_train[tr_index], y_train[val_index]\r\n",
        "    rfr = LinearRegression()\r\n",
        "    rfr.fit(X_tr, y_tr)\r\n",
        "    score.append([i, rfr.score(X_val, y_val)])\r\n",
        "    i += 1\r\n",
        "yhat=pd.Series(rfr.predict(X_test))\r\n",
        "MAPE= mean_absolute_percentage_error(y_test,yhat)\r\n",
        "print(MAPE)\r\n",
        "print(score)\r\n",
        "y_pred_mdh = yhat.copy() "
      ],
      "execution_count": 60,
      "outputs": [
        {
          "output_type": "stream",
          "text": [
            "14.560776873544953\n",
            "[[1, -1.412567864546294e+23], [2, -6.199036167622866e+22], [3, -4.305074184473245e+24], [4, -2.2678055173820315e+23], [5, 0.4242096421267123], [6, 0.7672639182410638], [7, -0.4984185194371258], [8, -0.011444333321812605], [9, 0.3885473903503118], [10, 0.04856854908256636]]\n"
          ],
          "name": "stdout"
        }
      ]
    },
    {
      "cell_type": "markdown",
      "metadata": {
        "id": "zbR12wjBBxol"
      },
      "source": [
        "**Features: Month + Day of the Week x Hour of the Day**"
      ]
    },
    {
      "cell_type": "code",
      "metadata": {
        "colab": {
          "base_uri": "https://localhost:8080/"
        },
        "id": "caSOyp4FMJJA",
        "outputId": "0f6eccb5-0ee8-4bb6-8854-0760e5aaa277"
      },
      "source": [
        "#with times sries cross val\r\n",
        "X_hat = pd.concat([month_dummies.iloc[:, :-1], \r\n",
        "               dayhour_dummies.iloc[:, :-1],    \r\n",
        "              ], axis=1)\r\n",
        "X = X_hat.values\r\n",
        "y = y_home\r\n",
        "#y = y_home.values.reshape(-1, 1)\r\n",
        "X_train = X[:int(X.shape[0]*0.8)]\r\n",
        "X_test = X[int(X.shape[0]*0.8):]\r\n",
        "y_train = y[:int(X.shape[0]*0.8)]\r\n",
        "y_test = y[int(X.shape[0]*0.8):]\r\n",
        "tscv = TimeSeriesSplit(n_splits=10)\r\n",
        "i = 1\r\n",
        "score = []\r\n",
        "for tr_index, val_index in tscv.split(X_train):\r\n",
        "    X_tr, X_val = X_train[tr_index], X_train[val_index]\r\n",
        "    y_tr, y_val = y_train[tr_index], y_train[val_index]\r\n",
        "    rfr = RandomForestRegressor()\r\n",
        "    rfr.fit(X_tr, y_tr)\r\n",
        "    score.append([i, rfr.score(X_val, y_val)])\r\n",
        "    i += 1\r\n",
        "yhat= pd.Series(rfr.predict(X_test))\r\n",
        "MAPE= mean_absolute_percentage_error(y_test,yhat)\r\n",
        "print(MAPE)\r\n",
        "print(score)\r\n",
        "y_pred_mdxh = yhat.copy() "
      ],
      "execution_count": 70,
      "outputs": [
        {
          "output_type": "stream",
          "text": [
            "13.905440815081171\n",
            "[[1, -3.9672807724779893], [2, -12.232436807950766], [3, -1.6206717120041312], [4, 0.2580334636969879], [5, 0.6670603396515884], [6, 0.8011630266321973], [7, -0.37468093171863437], [8, 0.08976231892940711], [9, 0.321230847806373], [10, 0.15425794072310706]]\n"
          ],
          "name": "stdout"
        }
      ]
    },
    {
      "cell_type": "code",
      "metadata": {
        "colab": {
          "base_uri": "https://localhost:8080/"
        },
        "id": "nnNmfBXYutJh",
        "outputId": "0ce1be5f-8ad8-4d44-f084-1c16c9f14ac7"
      },
      "source": [
        "#with times sries cross val\r\n",
        "X_hat = pd.concat([month_dummies.iloc[:, :-1], \r\n",
        "               dayhour_dummies.iloc[:, :-1],    \r\n",
        "              ], axis=1)\r\n",
        "X = X_hat.values\r\n",
        "y = y_home\r\n",
        "#y = y_home.values.reshape(-1, 1)\r\n",
        "X_train = X[:int(X.shape[0]*0.8)]\r\n",
        "X_test = X[int(X.shape[0]*0.8):]\r\n",
        "y_train = y[:int(X.shape[0]*0.8)]\r\n",
        "y_test = y[int(X.shape[0]*0.8):]\r\n",
        "tscv = TimeSeriesSplit(n_splits=10)\r\n",
        "i = 1\r\n",
        "score = []\r\n",
        "for tr_index, val_index in tscv.split(X_train):\r\n",
        "    X_tr, X_val = X_train[tr_index], X_train[val_index]\r\n",
        "    y_tr, y_val = y_train[tr_index], y_train[val_index]\r\n",
        "    rfr = LinearRegression()\r\n",
        "    rfr.fit(X_tr, y_tr)\r\n",
        "    score.append([i, rfr.score(X_val, y_val)])\r\n",
        "    i += 1\r\n",
        "yhat= pd.Series(rfr.predict(X_test))\r\n",
        "MAPE= mean_absolute_percentage_error(y_test,yhat)\r\n",
        "print(MAPE)\r\n",
        "print(score)\r\n",
        "y_pred_mdxh = yhat.copy() "
      ],
      "execution_count": 57,
      "outputs": [
        {
          "output_type": "stream",
          "text": [
            "14.097548207413354\n",
            "[[1, -5.430659737096881e+23], [2, -5.004521356274457e+25], [3, -3.7681811620337145e+26], [4, -6.169639764789976e+21], [5, 0.4623163888857131], [6, 0.8008820608282936], [7, -0.4324918589831286], [8, 0.09340578577547498], [9, 0.3980268741141967], [10, 0.04889424040619583]]\n"
          ],
          "name": "stdout"
        }
      ]
    },
    {
      "cell_type": "markdown",
      "metadata": {
        "id": "AWL4PktkDlv2"
      },
      "source": [
        "**Modelling Temperature**\r\n",
        "\r\n",
        "Features used is a 3rd Degree Polynomial because it can model assymteric depdendencies.\r\n",
        "\r\n",
        "\r\n",
        "($temp$ x $month$ + $temp^{2}$ x $month$ + $temp^{3}$ x $month$) +\r\n",
        "($temp$ x $hour$ + $temp^{2}$ x $hour$ + $temp^{3}$ x $hour$) +\r\n",
        "($month$ + $day\\_of\\_the\\_week$ x $hour\\_of\\_the\\_day$)"
      ]
    },
    {
      "cell_type": "code",
      "metadata": {
        "colab": {
          "base_uri": "https://localhost:8080/"
        },
        "id": "1LsF4w1GLA05",
        "outputId": "7306a0c8-514b-4316-bcf1-140449afa28c"
      },
      "source": [
        "#with time series cross val\r\n",
        "X_HAT = pd.concat([month_dummies.iloc[:, :-1],  \r\n",
        "               dayhour_dummies.iloc[:, :-1],    \r\n",
        "               # month interactions\r\n",
        "               get_interactions(tempC, month_dummies, poly_degree=3),\r\n",
        "               # hourly interactions\r\n",
        "               get_interactions(tempC, hour_dummies, poly_degree=3)   \r\n",
        "              ], axis=1)\r\n",
        "X = X_HAT.values\r\n",
        "y = y_home\r\n",
        "#y = y_home.values.reshape(-1, 1)\r\n",
        "X_train = X[:int(X.shape[0]*0.8)]\r\n",
        "X_test = X[int(X.shape[0]*0.8):]\r\n",
        "y_train = y[:int(X.shape[0]*0.8)]\r\n",
        "y_test = y[int(X.shape[0]*0.8):]\r\n",
        "tscv = TimeSeriesSplit(n_splits=10)\r\n",
        "i = 1\r\n",
        "score = []\r\n",
        "for tr_index, val_index in tscv.split(X_train):\r\n",
        "    X_tr, X_val = X_train[tr_index], X_train[val_index]\r\n",
        "    y_tr, y_val = y_train[tr_index], y_train[val_index]\r\n",
        "    rfr = RandomForestRegressor()\r\n",
        "    rfr.fit(X_tr, y_tr)\r\n",
        "    score.append([i, rfr.score(X_val, y_val)])\r\n",
        "    i += 1\r\n",
        "yhat=pd.Series(rfr.predict(X_test))\r\n",
        "MAPE= mean_absolute_percentage_error(y_test,yhat)\r\n",
        "print(MAPE)\r\n",
        "print(score)\r\n",
        "y_pred_temp = yhat.copy() "
      ],
      "execution_count": 69,
      "outputs": [
        {
          "output_type": "stream",
          "text": [
            "7.712862651732033\n",
            "[[1, -5.547475120168803], [2, -16.72445714131413], [3, -1.0660023885042933], [4, -6.465166513733013], [5, 0.7129628912824457], [6, 0.8812549350538604], [7, 0.4136146699864236], [8, 0.5032652204329141], [9, 0.6385970744890617], [10, 0.6813752918507079]]\n"
          ],
          "name": "stdout"
        }
      ]
    },
    {
      "cell_type": "code",
      "metadata": {
        "colab": {
          "base_uri": "https://localhost:8080/"
        },
        "id": "NfjQUwlvwsGH",
        "outputId": "55367463-281f-43a9-e06f-075de8176f87"
      },
      "source": [
        "#with time series cross val\r\n",
        "X_HAT = pd.concat([month_dummies.iloc[:, :-1],  \r\n",
        "               dayhour_dummies.iloc[:, :-1],    \r\n",
        "               # month interactions\r\n",
        "               get_interactions(tempC, month_dummies, poly_degree=3),\r\n",
        "               # hourly interactions\r\n",
        "               get_interactions(tempC, hour_dummies, poly_degree=3)   \r\n",
        "              ], axis=1)\r\n",
        "X = X_HAT.values\r\n",
        "y = y_home\r\n",
        "#y = y_home.values.reshape(-1, 1)\r\n",
        "X_train = X[:int(X.shape[0]*0.8)]\r\n",
        "X_test = X[int(X.shape[0]*0.8):]\r\n",
        "y_train = y[:int(X.shape[0]*0.8)]\r\n",
        "y_test = y[int(X.shape[0]*0.8):]\r\n",
        "tscv = TimeSeriesSplit(n_splits=10)\r\n",
        "i = 1\r\n",
        "score = []\r\n",
        "for tr_index, val_index in tscv.split(X_train):\r\n",
        "    X_tr, X_val = X_train[tr_index], X_train[val_index]\r\n",
        "    y_tr, y_val = y_train[tr_index], y_train[val_index]\r\n",
        "    rfr = LinearRegression()\r\n",
        "    rfr.fit(X_tr, y_tr)\r\n",
        "    score.append([i, rfr.score(X_val, y_val)])\r\n",
        "    i += 1\r\n",
        "yhat=pd.Series(rfr.predict(X_test))\r\n",
        "MAPE= mean_absolute_percentage_error(y_test,yhat)\r\n",
        "print(MAPE)\r\n",
        "print(score)\r\n",
        "y_pred_temp = yhat.copy() "
      ],
      "execution_count": 54,
      "outputs": [
        {
          "output_type": "stream",
          "text": [
            "7.0619912308277915\n",
            "[[1, -9.146012237583985e+20], [2, -8.05112562591895e+19], [3, -2.366255406101543e+20], [4, -3.4038009467744335e+23], [5, 0.5929276763872058], [6, 0.9317935344614438], [7, 0.5964595117689045], [8, 0.6369825636021345], [9, 0.662830583348198], [10, 0.596097634427267]]\n"
          ],
          "name": "stdout"
        }
      ]
    },
    {
      "cell_type": "markdown",
      "metadata": {
        "id": "rj9MVdHADBym"
      },
      "source": [
        "**Modelling Trends**\r\n",
        "\r\n",
        "Adding a trend feature"
      ]
    },
    {
      "cell_type": "code",
      "metadata": {
        "colab": {
          "base_uri": "https://localhost:8080/"
        },
        "id": "Y5dZPjI7MvqF",
        "outputId": "625d9d4a-73dd-4a8d-cb9b-fe0746404de7"
      },
      "source": [
        "#with time series cross val\r\n",
        "X_h = pd.concat([month_dummies.iloc[:, :-1],  \r\n",
        "               dayhour_dummies.iloc[:, :-1],   \r\n",
        "               \r\n",
        "               get_interactions(tempC, month_dummies, poly_degree=3),  # month interactions\r\n",
        "               get_interactions(tempC, hour_dummies, poly_degree=3),   # hourly interactions\r\n",
        "               \r\n",
        "               trend\r\n",
        "              ], axis=1)\r\n",
        "X = X_h.values\r\n",
        "y = y_home\r\n",
        "#y = y_home.values.reshape(-1, 1)\r\n",
        "X_train = X[:int(X.shape[0]*0.8)]\r\n",
        "X_test = X[int(X.shape[0]*0.8):]\r\n",
        "y_train = y[:int(X.shape[0]*0.8)]\r\n",
        "y_test = y[int(X.shape[0]*0.8):]\r\n",
        "tscv = TimeSeriesSplit(n_splits=10)\r\n",
        "i = 1\r\n",
        "score = []\r\n",
        "for tr_index, val_index in tscv.split(X_train):\r\n",
        "    X_tr, X_val = X_train[tr_index], X_train[val_index]\r\n",
        "    y_tr, y_val = y_train[tr_index], y_train[val_index]\r\n",
        "    rfr = RandomForestRegressor()\r\n",
        "    rfr.fit(X_tr, y_tr)\r\n",
        "    score.append([i, rfr.score(X_val, y_val)])\r\n",
        "    i += 1\r\n",
        "yhat=pd.Series(rfr.predict(X_test))\r\n",
        "MAPE= mean_absolute_percentage_error(y_test,yhat)\r\n",
        "print(MAPE)\r\n",
        "print(score)\r\n",
        "y_pred_trend = yhat.copy() \r\n"
      ],
      "execution_count": 71,
      "outputs": [
        {
          "output_type": "stream",
          "text": [
            "14.599127725675565\n",
            "[[1, -2.480172631207723], [2, 0.3478083452981644], [3, -0.3109684402973436], [4, -0.06648677207020426], [5, 0.24404596970864065], [6, -0.9297262510788178], [7, -0.05615169741111536], [8, 0.38935051223182804], [9, 0.04398649864685644], [10, 0.4682318799693565]]\n"
          ],
          "name": "stdout"
        }
      ]
    },
    {
      "cell_type": "code",
      "metadata": {
        "colab": {
          "base_uri": "https://localhost:8080/"
        },
        "id": "puLVg0rhxF4m",
        "outputId": "7312765d-3e60-4732-bf9a-63d3f1f5c428"
      },
      "source": [
        "#with time series cross val\r\n",
        "X_h = pd.concat([month_dummies.iloc[:, :-1],  \r\n",
        "               dayhour_dummies.iloc[:, :-1],   \r\n",
        "               \r\n",
        "               get_interactions(tempC, month_dummies, poly_degree=3),  # month interactions\r\n",
        "               get_interactions(tempC, hour_dummies, poly_degree=3),   # hourly interactions\r\n",
        "               \r\n",
        "               trend\r\n",
        "              ], axis=1)\r\n",
        "X = X_h.values\r\n",
        "y = y_home\r\n",
        "#y = y_home.values.reshape(-1, 1)\r\n",
        "X_train = X[:int(X.shape[0]*0.8)]\r\n",
        "X_test = X[int(X.shape[0]*0.8):]\r\n",
        "y_train = y[:int(X.shape[0]*0.8)]\r\n",
        "y_test = y[int(X.shape[0]*0.8):]\r\n",
        "tscv = TimeSeriesSplit(n_splits=10)\r\n",
        "i = 1\r\n",
        "score = []\r\n",
        "for tr_index, val_index in tscv.split(X_train):\r\n",
        "    X_tr, X_val = X_train[tr_index], X_train[val_index]\r\n",
        "    y_tr, y_val = y_train[tr_index], y_train[val_index]\r\n",
        "    rfr = LinearRegression()\r\n",
        "    rfr.fit(X_tr, y_tr)\r\n",
        "    score.append([i, rfr.score(X_val, y_val)])\r\n",
        "    i += 1\r\n",
        "yhat=pd.Series(rfr.predict(X_test))\r\n",
        "MAPE= mean_absolute_percentage_error(y_test,yhat)\r\n",
        "print(MAPE)\r\n",
        "print(score)\r\n",
        "y_pred_trend = yhat.copy()\r\n",
        "\r\n"
      ],
      "execution_count": 81,
      "outputs": [
        {
          "output_type": "stream",
          "text": [
            "6.748232502426074\n",
            "[[1, -4.990967869584451e+20], [2, -8.206862970493237e+21], [3, -5.217702371383096e+20], [4, -3.938699921396484], [5, 0.603453541349234], [6, 0.9226348041094488], [7, 0.6364539784873081], [8, 0.7121369514065499], [9, 0.5569769120100403], [10, 0.4641706934309959]]\n"
          ],
          "name": "stdout"
        }
      ]
    }
  ]
}